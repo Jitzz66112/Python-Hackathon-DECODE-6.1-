{
  "nbformat": 4,
  "nbformat_minor": 0,
  "metadata": {
    "colab": {
      "name": "Hackathon.ipynb",
      "provenance": [],
      "collapsed_sections": []
    },
    "kernelspec": {
      "name": "python3",
      "display_name": "Python 3"
    }
  },
  "cells": [
    {
      "cell_type": "markdown",
      "metadata": {
        "id": "Qgr3zgrOxYQn",
        "colab_type": "text"
      },
      "source": [
        "#Importing libraries and creating a dataframe."
      ]
    },
    {
      "cell_type": "code",
      "metadata": {
        "id": "Uu2wmqv-uERc",
        "colab_type": "code",
        "colab": {}
      },
      "source": [
        "import pandas as pd\n",
        "import numpy as np\n",
        "from numpy import array\n",
        "import matplotlib.pyplot as plt\n",
        "import seaborn as sns \n",
        "from datetime import datetime"
      ],
      "execution_count": 0,
      "outputs": []
    },
    {
      "cell_type": "markdown",
      "metadata": {
        "id": "4zxABjG6i_fK",
        "colab_type": "text"
      },
      "source": [
        "#Reading CSV file."
      ]
    },
    {
      "cell_type": "code",
      "metadata": {
        "id": "hcxjSGl9XoJg",
        "colab_type": "code",
        "outputId": "ff68ea85-07b9-4373-ca17-dda23124d7bf",
        "colab": {
          "base_uri": "https://localhost:8080/",
          "height": 343
        }
      },
      "source": [
        "df=pd.read_csv(\"Hackathon_Data_May6.csv\")\n",
        "df.head()"
      ],
      "execution_count": 0,
      "outputs": [
        {
          "output_type": "execute_result",
          "data": {
            "text/html": [
              "<div>\n",
              "<style scoped>\n",
              "    .dataframe tbody tr th:only-of-type {\n",
              "        vertical-align: middle;\n",
              "    }\n",
              "\n",
              "    .dataframe tbody tr th {\n",
              "        vertical-align: top;\n",
              "    }\n",
              "\n",
              "    .dataframe thead th {\n",
              "        text-align: right;\n",
              "    }\n",
              "</style>\n",
              "<table border=\"1\" class=\"dataframe\">\n",
              "  <thead>\n",
              "    <tr style=\"text-align: right;\">\n",
              "      <th></th>\n",
              "      <th>ParentSKU</th>\n",
              "      <th>Site Id</th>\n",
              "      <th>Year</th>\n",
              "      <th>Month</th>\n",
              "      <th>Category Name ID</th>\n",
              "      <th>Unit</th>\n",
              "      <th>Qty</th>\n",
              "      <th>Price</th>\n",
              "      <th>Net Sales calculated</th>\n",
              "      <th>Cash Discount</th>\n",
              "      <th>Amount to Customer</th>\n",
              "      <th>MRP</th>\n",
              "      <th>Pack Size</th>\n",
              "      <th>Pack Unit Id</th>\n",
              "      <th>State</th>\n",
              "      <th>Zone</th>\n",
              "      <th>Master Category</th>\n",
              "      <th>Size</th>\n",
              "      <th>Rank</th>\n",
              "      <th>Date</th>\n",
              "    </tr>\n",
              "  </thead>\n",
              "  <tbody>\n",
              "    <tr>\n",
              "      <th>0</th>\n",
              "      <td>F0033</td>\n",
              "      <td>AHMEDABAD</td>\n",
              "      <td>2017</td>\n",
              "      <td>4</td>\n",
              "      <td>0</td>\n",
              "      <td>NO</td>\n",
              "      <td>1621.0</td>\n",
              "      <td>54</td>\n",
              "      <td>82557</td>\n",
              "      <td>20</td>\n",
              "      <td>93640</td>\n",
              "      <td>80.0</td>\n",
              "      <td>30.0</td>\n",
              "      <td>GM</td>\n",
              "      <td>DL</td>\n",
              "      <td>WEST2</td>\n",
              "      <td>3</td>\n",
              "      <td>30gm</td>\n",
              "      <td>4</td>\n",
              "      <td>2017-04-01</td>\n",
              "    </tr>\n",
              "    <tr>\n",
              "      <th>1</th>\n",
              "      <td>F0033</td>\n",
              "      <td>AHMEDABAD</td>\n",
              "      <td>2017</td>\n",
              "      <td>5</td>\n",
              "      <td>0</td>\n",
              "      <td>NO</td>\n",
              "      <td>651.0</td>\n",
              "      <td>51</td>\n",
              "      <td>31473</td>\n",
              "      <td>21</td>\n",
              "      <td>35760</td>\n",
              "      <td>80.0</td>\n",
              "      <td>30.0</td>\n",
              "      <td>GM</td>\n",
              "      <td>DL</td>\n",
              "      <td>WEST2</td>\n",
              "      <td>3</td>\n",
              "      <td>30gm</td>\n",
              "      <td>4</td>\n",
              "      <td>2017-05-01</td>\n",
              "    </tr>\n",
              "    <tr>\n",
              "      <th>2</th>\n",
              "      <td>F0033</td>\n",
              "      <td>AHMEDABAD</td>\n",
              "      <td>2017</td>\n",
              "      <td>6</td>\n",
              "      <td>0</td>\n",
              "      <td>NO</td>\n",
              "      <td>457.0</td>\n",
              "      <td>46</td>\n",
              "      <td>19580</td>\n",
              "      <td>12</td>\n",
              "      <td>22293</td>\n",
              "      <td>70.0</td>\n",
              "      <td>30.0</td>\n",
              "      <td>GM</td>\n",
              "      <td>DL</td>\n",
              "      <td>WEST2</td>\n",
              "      <td>3</td>\n",
              "      <td>30gm</td>\n",
              "      <td>4</td>\n",
              "      <td>2017-06-01</td>\n",
              "    </tr>\n",
              "    <tr>\n",
              "      <th>3</th>\n",
              "      <td>F0033</td>\n",
              "      <td>AHMEDABAD</td>\n",
              "      <td>2017</td>\n",
              "      <td>7</td>\n",
              "      <td>0</td>\n",
              "      <td>NO</td>\n",
              "      <td>1985.0</td>\n",
              "      <td>41</td>\n",
              "      <td>78144</td>\n",
              "      <td>0</td>\n",
              "      <td>78144</td>\n",
              "      <td>70.0</td>\n",
              "      <td>30.0</td>\n",
              "      <td>GM</td>\n",
              "      <td>DL</td>\n",
              "      <td>WEST2</td>\n",
              "      <td>3</td>\n",
              "      <td>30gm</td>\n",
              "      <td>4</td>\n",
              "      <td>2017-07-01</td>\n",
              "    </tr>\n",
              "    <tr>\n",
              "      <th>4</th>\n",
              "      <td>F0033</td>\n",
              "      <td>AHMEDABAD</td>\n",
              "      <td>2017</td>\n",
              "      <td>8</td>\n",
              "      <td>0</td>\n",
              "      <td>NO</td>\n",
              "      <td>6.0</td>\n",
              "      <td>38</td>\n",
              "      <td>228</td>\n",
              "      <td>0</td>\n",
              "      <td>228</td>\n",
              "      <td>70.0</td>\n",
              "      <td>30.0</td>\n",
              "      <td>GM</td>\n",
              "      <td>DL</td>\n",
              "      <td>WEST2</td>\n",
              "      <td>3</td>\n",
              "      <td>30gm</td>\n",
              "      <td>4</td>\n",
              "      <td>2017-08-01</td>\n",
              "    </tr>\n",
              "  </tbody>\n",
              "</table>\n",
              "</div>"
            ],
            "text/plain": [
              "  ParentSKU    Site Id  Year  Month  ...  Master Category  Size  Rank        Date\n",
              "0     F0033  AHMEDABAD  2017      4  ...                3  30gm     4  2017-04-01\n",
              "1     F0033  AHMEDABAD  2017      5  ...                3  30gm     4  2017-05-01\n",
              "2     F0033  AHMEDABAD  2017      6  ...                3  30gm     4  2017-06-01\n",
              "3     F0033  AHMEDABAD  2017      7  ...                3  30gm     4  2017-07-01\n",
              "4     F0033  AHMEDABAD  2017      8  ...                3  30gm     4  2017-08-01\n",
              "\n",
              "[5 rows x 20 columns]"
            ]
          },
          "metadata": {
            "tags": []
          },
          "execution_count": 295
        }
      ]
    },
    {
      "cell_type": "markdown",
      "metadata": {
        "id": "cyBDBv7ZjDp0",
        "colab_type": "text"
      },
      "source": [
        "#Collecting some information about the dataset."
      ]
    },
    {
      "cell_type": "code",
      "metadata": {
        "id": "xGnyWZcAfu-c",
        "colab_type": "code",
        "outputId": "1fca9559-287e-4cf8-d2a2-267e0fe5ae34",
        "colab": {
          "base_uri": "https://localhost:8080/",
          "height": 102
        }
      },
      "source": [
        "df.columns"
      ],
      "execution_count": 0,
      "outputs": [
        {
          "output_type": "execute_result",
          "data": {
            "text/plain": [
              "Index(['ParentSKU', 'Site Id', 'Year', 'Month', 'Category Name ID', 'Unit',\n",
              "       'Qty', 'Price', 'Net Sales calculated', 'Cash Discount',\n",
              "       'Amount to Customer', 'MRP', 'Pack Size', 'Pack Unit Id', 'State',\n",
              "       'Zone', 'Master Category', 'Size', 'Rank', 'Date'],\n",
              "      dtype='object')"
            ]
          },
          "metadata": {
            "tags": []
          },
          "execution_count": 296
        }
      ]
    },
    {
      "cell_type": "code",
      "metadata": {
        "id": "T6FvlTQ9WHIo",
        "colab_type": "code",
        "outputId": "336adde4-c4b7-4fbd-a520-4301a4953205",
        "colab": {
          "base_uri": "https://localhost:8080/",
          "height": 334
        }
      },
      "source": [
        "df.describe()"
      ],
      "execution_count": 0,
      "outputs": [
        {
          "output_type": "execute_result",
          "data": {
            "text/html": [
              "<div>\n",
              "<style scoped>\n",
              "    .dataframe tbody tr th:only-of-type {\n",
              "        vertical-align: middle;\n",
              "    }\n",
              "\n",
              "    .dataframe tbody tr th {\n",
              "        vertical-align: top;\n",
              "    }\n",
              "\n",
              "    .dataframe thead th {\n",
              "        text-align: right;\n",
              "    }\n",
              "</style>\n",
              "<table border=\"1\" class=\"dataframe\">\n",
              "  <thead>\n",
              "    <tr style=\"text-align: right;\">\n",
              "      <th></th>\n",
              "      <th>Year</th>\n",
              "      <th>Month</th>\n",
              "      <th>Category Name ID</th>\n",
              "      <th>Qty</th>\n",
              "      <th>Price</th>\n",
              "      <th>Net Sales calculated</th>\n",
              "      <th>Cash Discount</th>\n",
              "      <th>Amount to Customer</th>\n",
              "      <th>MRP</th>\n",
              "      <th>Pack Size</th>\n",
              "      <th>Master Category</th>\n",
              "      <th>Rank</th>\n",
              "    </tr>\n",
              "  </thead>\n",
              "  <tbody>\n",
              "    <tr>\n",
              "      <th>count</th>\n",
              "      <td>34950.000000</td>\n",
              "      <td>34950.000000</td>\n",
              "      <td>34950.000000</td>\n",
              "      <td>34950.000000</td>\n",
              "      <td>34950.000000</td>\n",
              "      <td>3.495000e+04</td>\n",
              "      <td>34950.000000</td>\n",
              "      <td>3.495000e+04</td>\n",
              "      <td>34950.000000</td>\n",
              "      <td>34950.000000</td>\n",
              "      <td>34950.000000</td>\n",
              "      <td>34950.000000</td>\n",
              "    </tr>\n",
              "    <tr>\n",
              "      <th>mean</th>\n",
              "      <td>2018.238369</td>\n",
              "      <td>6.592704</td>\n",
              "      <td>5.650329</td>\n",
              "      <td>648.123836</td>\n",
              "      <td>170.624435</td>\n",
              "      <td>6.820406e+04</td>\n",
              "      <td>0.828097</td>\n",
              "      <td>6.882029e+04</td>\n",
              "      <td>267.888050</td>\n",
              "      <td>105.565728</td>\n",
              "      <td>7.601373</td>\n",
              "      <td>27.729843</td>\n",
              "    </tr>\n",
              "    <tr>\n",
              "      <th>std</th>\n",
              "      <td>0.890129</td>\n",
              "      <td>3.480924</td>\n",
              "      <td>2.304732</td>\n",
              "      <td>1692.562838</td>\n",
              "      <td>151.156814</td>\n",
              "      <td>1.311879e+05</td>\n",
              "      <td>7.367449</td>\n",
              "      <td>1.316258e+05</td>\n",
              "      <td>229.221730</td>\n",
              "      <td>140.720941</td>\n",
              "      <td>4.108985</td>\n",
              "      <td>14.634914</td>\n",
              "    </tr>\n",
              "    <tr>\n",
              "      <th>min</th>\n",
              "      <td>2017.000000</td>\n",
              "      <td>1.000000</td>\n",
              "      <td>0.000000</td>\n",
              "      <td>1.000000</td>\n",
              "      <td>27.000000</td>\n",
              "      <td>2.800000e+01</td>\n",
              "      <td>0.000000</td>\n",
              "      <td>2.800000e+01</td>\n",
              "      <td>33.846154</td>\n",
              "      <td>1.000000</td>\n",
              "      <td>0.000000</td>\n",
              "      <td>1.000000</td>\n",
              "    </tr>\n",
              "    <tr>\n",
              "      <th>25%</th>\n",
              "      <td>2018.000000</td>\n",
              "      <td>4.000000</td>\n",
              "      <td>5.000000</td>\n",
              "      <td>113.000000</td>\n",
              "      <td>95.000000</td>\n",
              "      <td>1.524025e+04</td>\n",
              "      <td>0.000000</td>\n",
              "      <td>1.536900e+04</td>\n",
              "      <td>153.333333</td>\n",
              "      <td>40.000000</td>\n",
              "      <td>4.000000</td>\n",
              "      <td>15.000000</td>\n",
              "    </tr>\n",
              "    <tr>\n",
              "      <th>50%</th>\n",
              "      <td>2018.000000</td>\n",
              "      <td>7.000000</td>\n",
              "      <td>7.000000</td>\n",
              "      <td>275.000000</td>\n",
              "      <td>120.000000</td>\n",
              "      <td>3.379350e+04</td>\n",
              "      <td>0.000000</td>\n",
              "      <td>3.412550e+04</td>\n",
              "      <td>190.000000</td>\n",
              "      <td>80.000000</td>\n",
              "      <td>10.000000</td>\n",
              "      <td>28.000000</td>\n",
              "    </tr>\n",
              "    <tr>\n",
              "      <th>75%</th>\n",
              "      <td>2019.000000</td>\n",
              "      <td>10.000000</td>\n",
              "      <td>7.000000</td>\n",
              "      <td>616.000000</td>\n",
              "      <td>178.000000</td>\n",
              "      <td>7.255300e+04</td>\n",
              "      <td>0.000000</td>\n",
              "      <td>7.340275e+04</td>\n",
              "      <td>295.000000</td>\n",
              "      <td>100.000000</td>\n",
              "      <td>11.000000</td>\n",
              "      <td>41.000000</td>\n",
              "    </tr>\n",
              "    <tr>\n",
              "      <th>max</th>\n",
              "      <td>2020.000000</td>\n",
              "      <td>12.000000</td>\n",
              "      <td>8.000000</td>\n",
              "      <td>52226.000000</td>\n",
              "      <td>1023.000000</td>\n",
              "      <td>5.448294e+06</td>\n",
              "      <td>325.000000</td>\n",
              "      <td>5.448294e+06</td>\n",
              "      <td>1500.000000</td>\n",
              "      <td>700.000000</td>\n",
              "      <td>12.000000</td>\n",
              "      <td>52.000000</td>\n",
              "    </tr>\n",
              "  </tbody>\n",
              "</table>\n",
              "</div>"
            ],
            "text/plain": [
              "               Year         Month  ...  Master Category          Rank\n",
              "count  34950.000000  34950.000000  ...     34950.000000  34950.000000\n",
              "mean    2018.238369      6.592704  ...         7.601373     27.729843\n",
              "std        0.890129      3.480924  ...         4.108985     14.634914\n",
              "min     2017.000000      1.000000  ...         0.000000      1.000000\n",
              "25%     2018.000000      4.000000  ...         4.000000     15.000000\n",
              "50%     2018.000000      7.000000  ...        10.000000     28.000000\n",
              "75%     2019.000000     10.000000  ...        11.000000     41.000000\n",
              "max     2020.000000     12.000000  ...        12.000000     52.000000\n",
              "\n",
              "[8 rows x 12 columns]"
            ]
          },
          "metadata": {
            "tags": []
          },
          "execution_count": 297
        }
      ]
    },
    {
      "cell_type": "code",
      "metadata": {
        "id": "QhRZbcoox1wl",
        "colab_type": "code",
        "outputId": "1498830b-f1c4-45c0-f559-f3c457c2d269",
        "colab": {
          "base_uri": "https://localhost:8080/",
          "height": 255
        }
      },
      "source": [
        "df.info"
      ],
      "execution_count": 0,
      "outputs": [
        {
          "output_type": "execute_result",
          "data": {
            "text/plain": [
              "<bound method DataFrame.info of       ParentSKU     Site Id  Year  ...   Size  Rank        Date\n",
              "0         F0033   AHMEDABAD  2017  ...   30gm     4  2017-04-01\n",
              "1         F0033   AHMEDABAD  2017  ...   30gm     4  2017-05-01\n",
              "2         F0033   AHMEDABAD  2017  ...   30gm     4  2017-06-01\n",
              "3         F0033   AHMEDABAD  2017  ...   30gm     4  2017-07-01\n",
              "4         F0033   AHMEDABAD  2017  ...   30gm     4  2017-08-01\n",
              "...         ...         ...   ...  ...    ...   ...         ...\n",
              "34945     T0270  VIJAYAWADA  2019  ...  120gm    44  2019-09-01\n",
              "34946     T0270  VIJAYAWADA  2019  ...  120gm    44  2019-10-01\n",
              "34947     T0270  VIJAYAWADA  2019  ...  120gm    44  2019-12-01\n",
              "34948     T0270  VIJAYAWADA  2020  ...  120gm    44  2020-01-01\n",
              "34949     T0270  VIJAYAWADA  2020  ...  120gm    44  2020-02-01\n",
              "\n",
              "[34950 rows x 20 columns]>"
            ]
          },
          "metadata": {
            "tags": []
          },
          "execution_count": 298
        }
      ]
    },
    {
      "cell_type": "code",
      "metadata": {
        "id": "FZeuROlvclI8",
        "colab_type": "code",
        "outputId": "d1cfb168-ceef-4548-9274-9cfe4a61160a",
        "colab": {
          "base_uri": "https://localhost:8080/",
          "height": 34
        }
      },
      "source": [
        "df.shape"
      ],
      "execution_count": 0,
      "outputs": [
        {
          "output_type": "execute_result",
          "data": {
            "text/plain": [
              "(34950, 20)"
            ]
          },
          "metadata": {
            "tags": []
          },
          "execution_count": 299
        }
      ]
    },
    {
      "cell_type": "markdown",
      "metadata": {
        "id": "hTn8qU5JjcO7",
        "colab_type": "text"
      },
      "source": [
        "#Data Wrangling"
      ]
    },
    {
      "cell_type": "code",
      "metadata": {
        "id": "_x6Pc80pZ9p4",
        "colab_type": "code",
        "outputId": "79263f39-23e5-4a9e-9851-cf55eafe101d",
        "colab": {
          "base_uri": "https://localhost:8080/",
          "height": 34
        }
      },
      "source": [
        "x=df.duplicated(subset=None, keep='first')\n",
        "print(x.shape)"
      ],
      "execution_count": 0,
      "outputs": [
        {
          "output_type": "stream",
          "text": [
            "(34950,)\n"
          ],
          "name": "stdout"
        }
      ]
    },
    {
      "cell_type": "code",
      "metadata": {
        "id": "Q7gBNvOw2J_N",
        "colab_type": "code",
        "outputId": "ab79c25f-0744-4786-9ef7-4f674e90d587",
        "colab": {
          "base_uri": "https://localhost:8080/",
          "height": 343
        }
      },
      "source": [
        "df[\"Zone\"]= df[\"Zone\"].str.replace(\"West2\", \"WEST\", case= False) \n",
        "df[\"Zone\"]= df[\"Zone\"].str.replace(\"West1\", \"WEST\", case= False)\n",
        "df[\"Zone\"]= df[\"Zone\"].str.replace(\"West\", \"WEST\", case= False)\n",
        "df[\"Zone\"]= df[\"Zone\"].str.replace(\"North 2\", \"NORTH\", case= False)\n",
        "df[\"Zone\"]= df[\"Zone\"].str.replace(\"North 1\", \"NORTH\", case= False)\n",
        "df[\"Zone\"]= df[\"Zone\"].str.replace(\"North1\", \"NORTH\", case= False)\n",
        "df[\"Zone\"]= df[\"Zone\"].str.replace(\"North2\", \"NORTH\", case= False)\n",
        "df[\"Zone\"]= df[\"Zone\"].str.replace(\"North\", \"NORTH\", case= False)\n",
        "df[\"Zone\"]= df[\"Zone\"].str.replace(\"east\", \"EAST\", case= False)\n",
        "df[\"Zone\"]= df[\"Zone\"].str.replace(\"south\", \"SOUTH\", case= False)\n",
        "df[\"Zone\"]= df[\"Zone\"].str.replace(\"South\", \"SOUTH\", case= False)\n",
        "df.head()"
      ],
      "execution_count": 0,
      "outputs": [
        {
          "output_type": "execute_result",
          "data": {
            "text/html": [
              "<div>\n",
              "<style scoped>\n",
              "    .dataframe tbody tr th:only-of-type {\n",
              "        vertical-align: middle;\n",
              "    }\n",
              "\n",
              "    .dataframe tbody tr th {\n",
              "        vertical-align: top;\n",
              "    }\n",
              "\n",
              "    .dataframe thead th {\n",
              "        text-align: right;\n",
              "    }\n",
              "</style>\n",
              "<table border=\"1\" class=\"dataframe\">\n",
              "  <thead>\n",
              "    <tr style=\"text-align: right;\">\n",
              "      <th></th>\n",
              "      <th>ParentSKU</th>\n",
              "      <th>Site Id</th>\n",
              "      <th>Year</th>\n",
              "      <th>Month</th>\n",
              "      <th>Category Name ID</th>\n",
              "      <th>Unit</th>\n",
              "      <th>Qty</th>\n",
              "      <th>Price</th>\n",
              "      <th>Net Sales calculated</th>\n",
              "      <th>Cash Discount</th>\n",
              "      <th>Amount to Customer</th>\n",
              "      <th>MRP</th>\n",
              "      <th>Pack Size</th>\n",
              "      <th>Pack Unit Id</th>\n",
              "      <th>State</th>\n",
              "      <th>Zone</th>\n",
              "      <th>Master Category</th>\n",
              "      <th>Size</th>\n",
              "      <th>Rank</th>\n",
              "      <th>Date</th>\n",
              "    </tr>\n",
              "  </thead>\n",
              "  <tbody>\n",
              "    <tr>\n",
              "      <th>0</th>\n",
              "      <td>F0033</td>\n",
              "      <td>AHMEDABAD</td>\n",
              "      <td>2017</td>\n",
              "      <td>4</td>\n",
              "      <td>0</td>\n",
              "      <td>NO</td>\n",
              "      <td>1621.0</td>\n",
              "      <td>54</td>\n",
              "      <td>82557</td>\n",
              "      <td>20</td>\n",
              "      <td>93640</td>\n",
              "      <td>80.0</td>\n",
              "      <td>30.0</td>\n",
              "      <td>GM</td>\n",
              "      <td>DL</td>\n",
              "      <td>WEST</td>\n",
              "      <td>3</td>\n",
              "      <td>30gm</td>\n",
              "      <td>4</td>\n",
              "      <td>2017-04-01</td>\n",
              "    </tr>\n",
              "    <tr>\n",
              "      <th>1</th>\n",
              "      <td>F0033</td>\n",
              "      <td>AHMEDABAD</td>\n",
              "      <td>2017</td>\n",
              "      <td>5</td>\n",
              "      <td>0</td>\n",
              "      <td>NO</td>\n",
              "      <td>651.0</td>\n",
              "      <td>51</td>\n",
              "      <td>31473</td>\n",
              "      <td>21</td>\n",
              "      <td>35760</td>\n",
              "      <td>80.0</td>\n",
              "      <td>30.0</td>\n",
              "      <td>GM</td>\n",
              "      <td>DL</td>\n",
              "      <td>WEST</td>\n",
              "      <td>3</td>\n",
              "      <td>30gm</td>\n",
              "      <td>4</td>\n",
              "      <td>2017-05-01</td>\n",
              "    </tr>\n",
              "    <tr>\n",
              "      <th>2</th>\n",
              "      <td>F0033</td>\n",
              "      <td>AHMEDABAD</td>\n",
              "      <td>2017</td>\n",
              "      <td>6</td>\n",
              "      <td>0</td>\n",
              "      <td>NO</td>\n",
              "      <td>457.0</td>\n",
              "      <td>46</td>\n",
              "      <td>19580</td>\n",
              "      <td>12</td>\n",
              "      <td>22293</td>\n",
              "      <td>70.0</td>\n",
              "      <td>30.0</td>\n",
              "      <td>GM</td>\n",
              "      <td>DL</td>\n",
              "      <td>WEST</td>\n",
              "      <td>3</td>\n",
              "      <td>30gm</td>\n",
              "      <td>4</td>\n",
              "      <td>2017-06-01</td>\n",
              "    </tr>\n",
              "    <tr>\n",
              "      <th>3</th>\n",
              "      <td>F0033</td>\n",
              "      <td>AHMEDABAD</td>\n",
              "      <td>2017</td>\n",
              "      <td>7</td>\n",
              "      <td>0</td>\n",
              "      <td>NO</td>\n",
              "      <td>1985.0</td>\n",
              "      <td>41</td>\n",
              "      <td>78144</td>\n",
              "      <td>0</td>\n",
              "      <td>78144</td>\n",
              "      <td>70.0</td>\n",
              "      <td>30.0</td>\n",
              "      <td>GM</td>\n",
              "      <td>DL</td>\n",
              "      <td>WEST</td>\n",
              "      <td>3</td>\n",
              "      <td>30gm</td>\n",
              "      <td>4</td>\n",
              "      <td>2017-07-01</td>\n",
              "    </tr>\n",
              "    <tr>\n",
              "      <th>4</th>\n",
              "      <td>F0033</td>\n",
              "      <td>AHMEDABAD</td>\n",
              "      <td>2017</td>\n",
              "      <td>8</td>\n",
              "      <td>0</td>\n",
              "      <td>NO</td>\n",
              "      <td>6.0</td>\n",
              "      <td>38</td>\n",
              "      <td>228</td>\n",
              "      <td>0</td>\n",
              "      <td>228</td>\n",
              "      <td>70.0</td>\n",
              "      <td>30.0</td>\n",
              "      <td>GM</td>\n",
              "      <td>DL</td>\n",
              "      <td>WEST</td>\n",
              "      <td>3</td>\n",
              "      <td>30gm</td>\n",
              "      <td>4</td>\n",
              "      <td>2017-08-01</td>\n",
              "    </tr>\n",
              "  </tbody>\n",
              "</table>\n",
              "</div>"
            ],
            "text/plain": [
              "  ParentSKU    Site Id  Year  Month  ...  Master Category  Size  Rank        Date\n",
              "0     F0033  AHMEDABAD  2017      4  ...                3  30gm     4  2017-04-01\n",
              "1     F0033  AHMEDABAD  2017      5  ...                3  30gm     4  2017-05-01\n",
              "2     F0033  AHMEDABAD  2017      6  ...                3  30gm     4  2017-06-01\n",
              "3     F0033  AHMEDABAD  2017      7  ...                3  30gm     4  2017-07-01\n",
              "4     F0033  AHMEDABAD  2017      8  ...                3  30gm     4  2017-08-01\n",
              "\n",
              "[5 rows x 20 columns]"
            ]
          },
          "metadata": {
            "tags": []
          },
          "execution_count": 301
        }
      ]
    },
    {
      "cell_type": "code",
      "metadata": {
        "id": "6L0zI-SEfAod",
        "colab_type": "code",
        "outputId": "54958fa1-853f-4f91-9140-67bc5e1d92c9",
        "colab": {
          "base_uri": "https://localhost:8080/",
          "height": 643
        }
      },
      "source": [
        "df.drop(['Unit', 'State'], axis = 1) "
      ],
      "execution_count": 0,
      "outputs": [
        {
          "output_type": "execute_result",
          "data": {
            "text/html": [
              "<div>\n",
              "<style scoped>\n",
              "    .dataframe tbody tr th:only-of-type {\n",
              "        vertical-align: middle;\n",
              "    }\n",
              "\n",
              "    .dataframe tbody tr th {\n",
              "        vertical-align: top;\n",
              "    }\n",
              "\n",
              "    .dataframe thead th {\n",
              "        text-align: right;\n",
              "    }\n",
              "</style>\n",
              "<table border=\"1\" class=\"dataframe\">\n",
              "  <thead>\n",
              "    <tr style=\"text-align: right;\">\n",
              "      <th></th>\n",
              "      <th>ParentSKU</th>\n",
              "      <th>Site Id</th>\n",
              "      <th>Year</th>\n",
              "      <th>Month</th>\n",
              "      <th>Category Name ID</th>\n",
              "      <th>Qty</th>\n",
              "      <th>Price</th>\n",
              "      <th>Net Sales calculated</th>\n",
              "      <th>Cash Discount</th>\n",
              "      <th>Amount to Customer</th>\n",
              "      <th>MRP</th>\n",
              "      <th>Pack Size</th>\n",
              "      <th>Pack Unit Id</th>\n",
              "      <th>Zone</th>\n",
              "      <th>Master Category</th>\n",
              "      <th>Size</th>\n",
              "      <th>Rank</th>\n",
              "      <th>Date</th>\n",
              "    </tr>\n",
              "  </thead>\n",
              "  <tbody>\n",
              "    <tr>\n",
              "      <th>0</th>\n",
              "      <td>F0033</td>\n",
              "      <td>AHMEDABAD</td>\n",
              "      <td>2017</td>\n",
              "      <td>4</td>\n",
              "      <td>0</td>\n",
              "      <td>1621.0</td>\n",
              "      <td>54</td>\n",
              "      <td>82557</td>\n",
              "      <td>20</td>\n",
              "      <td>93640</td>\n",
              "      <td>80.0</td>\n",
              "      <td>30.0</td>\n",
              "      <td>GM</td>\n",
              "      <td>WEST</td>\n",
              "      <td>3</td>\n",
              "      <td>30gm</td>\n",
              "      <td>4</td>\n",
              "      <td>2017-04-01</td>\n",
              "    </tr>\n",
              "    <tr>\n",
              "      <th>1</th>\n",
              "      <td>F0033</td>\n",
              "      <td>AHMEDABAD</td>\n",
              "      <td>2017</td>\n",
              "      <td>5</td>\n",
              "      <td>0</td>\n",
              "      <td>651.0</td>\n",
              "      <td>51</td>\n",
              "      <td>31473</td>\n",
              "      <td>21</td>\n",
              "      <td>35760</td>\n",
              "      <td>80.0</td>\n",
              "      <td>30.0</td>\n",
              "      <td>GM</td>\n",
              "      <td>WEST</td>\n",
              "      <td>3</td>\n",
              "      <td>30gm</td>\n",
              "      <td>4</td>\n",
              "      <td>2017-05-01</td>\n",
              "    </tr>\n",
              "    <tr>\n",
              "      <th>2</th>\n",
              "      <td>F0033</td>\n",
              "      <td>AHMEDABAD</td>\n",
              "      <td>2017</td>\n",
              "      <td>6</td>\n",
              "      <td>0</td>\n",
              "      <td>457.0</td>\n",
              "      <td>46</td>\n",
              "      <td>19580</td>\n",
              "      <td>12</td>\n",
              "      <td>22293</td>\n",
              "      <td>70.0</td>\n",
              "      <td>30.0</td>\n",
              "      <td>GM</td>\n",
              "      <td>WEST</td>\n",
              "      <td>3</td>\n",
              "      <td>30gm</td>\n",
              "      <td>4</td>\n",
              "      <td>2017-06-01</td>\n",
              "    </tr>\n",
              "    <tr>\n",
              "      <th>3</th>\n",
              "      <td>F0033</td>\n",
              "      <td>AHMEDABAD</td>\n",
              "      <td>2017</td>\n",
              "      <td>7</td>\n",
              "      <td>0</td>\n",
              "      <td>1985.0</td>\n",
              "      <td>41</td>\n",
              "      <td>78144</td>\n",
              "      <td>0</td>\n",
              "      <td>78144</td>\n",
              "      <td>70.0</td>\n",
              "      <td>30.0</td>\n",
              "      <td>GM</td>\n",
              "      <td>WEST</td>\n",
              "      <td>3</td>\n",
              "      <td>30gm</td>\n",
              "      <td>4</td>\n",
              "      <td>2017-07-01</td>\n",
              "    </tr>\n",
              "    <tr>\n",
              "      <th>4</th>\n",
              "      <td>F0033</td>\n",
              "      <td>AHMEDABAD</td>\n",
              "      <td>2017</td>\n",
              "      <td>8</td>\n",
              "      <td>0</td>\n",
              "      <td>6.0</td>\n",
              "      <td>38</td>\n",
              "      <td>228</td>\n",
              "      <td>0</td>\n",
              "      <td>228</td>\n",
              "      <td>70.0</td>\n",
              "      <td>30.0</td>\n",
              "      <td>GM</td>\n",
              "      <td>WEST</td>\n",
              "      <td>3</td>\n",
              "      <td>30gm</td>\n",
              "      <td>4</td>\n",
              "      <td>2017-08-01</td>\n",
              "    </tr>\n",
              "    <tr>\n",
              "      <th>...</th>\n",
              "      <td>...</td>\n",
              "      <td>...</td>\n",
              "      <td>...</td>\n",
              "      <td>...</td>\n",
              "      <td>...</td>\n",
              "      <td>...</td>\n",
              "      <td>...</td>\n",
              "      <td>...</td>\n",
              "      <td>...</td>\n",
              "      <td>...</td>\n",
              "      <td>...</td>\n",
              "      <td>...</td>\n",
              "      <td>...</td>\n",
              "      <td>...</td>\n",
              "      <td>...</td>\n",
              "      <td>...</td>\n",
              "      <td>...</td>\n",
              "      <td>...</td>\n",
              "    </tr>\n",
              "    <tr>\n",
              "      <th>34945</th>\n",
              "      <td>T0270</td>\n",
              "      <td>VIJAYAWADA</td>\n",
              "      <td>2019</td>\n",
              "      <td>9</td>\n",
              "      <td>1</td>\n",
              "      <td>1008.0</td>\n",
              "      <td>40</td>\n",
              "      <td>38321</td>\n",
              "      <td>0</td>\n",
              "      <td>38321</td>\n",
              "      <td>60.0</td>\n",
              "      <td>120.0</td>\n",
              "      <td>GM</td>\n",
              "      <td>SOUTH</td>\n",
              "      <td>5</td>\n",
              "      <td>120gm</td>\n",
              "      <td>44</td>\n",
              "      <td>2019-09-01</td>\n",
              "    </tr>\n",
              "    <tr>\n",
              "      <th>34946</th>\n",
              "      <td>T0270</td>\n",
              "      <td>VIJAYAWADA</td>\n",
              "      <td>2019</td>\n",
              "      <td>10</td>\n",
              "      <td>1</td>\n",
              "      <td>1179.0</td>\n",
              "      <td>40</td>\n",
              "      <td>44215</td>\n",
              "      <td>0</td>\n",
              "      <td>44215</td>\n",
              "      <td>60.0</td>\n",
              "      <td>120.0</td>\n",
              "      <td>GM</td>\n",
              "      <td>SOUTH</td>\n",
              "      <td>5</td>\n",
              "      <td>120gm</td>\n",
              "      <td>44</td>\n",
              "      <td>2019-10-01</td>\n",
              "    </tr>\n",
              "    <tr>\n",
              "      <th>34947</th>\n",
              "      <td>T0270</td>\n",
              "      <td>VIJAYAWADA</td>\n",
              "      <td>2019</td>\n",
              "      <td>12</td>\n",
              "      <td>1</td>\n",
              "      <td>81.0</td>\n",
              "      <td>40</td>\n",
              "      <td>2947</td>\n",
              "      <td>0</td>\n",
              "      <td>2947</td>\n",
              "      <td>60.0</td>\n",
              "      <td>120.0</td>\n",
              "      <td>GM</td>\n",
              "      <td>SOUTH</td>\n",
              "      <td>5</td>\n",
              "      <td>120gm</td>\n",
              "      <td>44</td>\n",
              "      <td>2019-12-01</td>\n",
              "    </tr>\n",
              "    <tr>\n",
              "      <th>34948</th>\n",
              "      <td>T0270</td>\n",
              "      <td>VIJAYAWADA</td>\n",
              "      <td>2020</td>\n",
              "      <td>1</td>\n",
              "      <td>1</td>\n",
              "      <td>580.0</td>\n",
              "      <td>40</td>\n",
              "      <td>21125</td>\n",
              "      <td>0</td>\n",
              "      <td>21125</td>\n",
              "      <td>60.0</td>\n",
              "      <td>120.0</td>\n",
              "      <td>GM</td>\n",
              "      <td>SOUTH</td>\n",
              "      <td>5</td>\n",
              "      <td>120gm</td>\n",
              "      <td>44</td>\n",
              "      <td>2020-01-01</td>\n",
              "    </tr>\n",
              "    <tr>\n",
              "      <th>34949</th>\n",
              "      <td>T0270</td>\n",
              "      <td>VIJAYAWADA</td>\n",
              "      <td>2020</td>\n",
              "      <td>2</td>\n",
              "      <td>1</td>\n",
              "      <td>180.0</td>\n",
              "      <td>40</td>\n",
              "      <td>6550</td>\n",
              "      <td>0</td>\n",
              "      <td>6550</td>\n",
              "      <td>60.0</td>\n",
              "      <td>120.0</td>\n",
              "      <td>GM</td>\n",
              "      <td>SOUTH</td>\n",
              "      <td>5</td>\n",
              "      <td>120gm</td>\n",
              "      <td>44</td>\n",
              "      <td>2020-02-01</td>\n",
              "    </tr>\n",
              "  </tbody>\n",
              "</table>\n",
              "<p>34950 rows × 18 columns</p>\n",
              "</div>"
            ],
            "text/plain": [
              "      ParentSKU     Site Id  Year  ...   Size  Rank        Date\n",
              "0         F0033   AHMEDABAD  2017  ...   30gm     4  2017-04-01\n",
              "1         F0033   AHMEDABAD  2017  ...   30gm     4  2017-05-01\n",
              "2         F0033   AHMEDABAD  2017  ...   30gm     4  2017-06-01\n",
              "3         F0033   AHMEDABAD  2017  ...   30gm     4  2017-07-01\n",
              "4         F0033   AHMEDABAD  2017  ...   30gm     4  2017-08-01\n",
              "...         ...         ...   ...  ...    ...   ...         ...\n",
              "34945     T0270  VIJAYAWADA  2019  ...  120gm    44  2019-09-01\n",
              "34946     T0270  VIJAYAWADA  2019  ...  120gm    44  2019-10-01\n",
              "34947     T0270  VIJAYAWADA  2019  ...  120gm    44  2019-12-01\n",
              "34948     T0270  VIJAYAWADA  2020  ...  120gm    44  2020-01-01\n",
              "34949     T0270  VIJAYAWADA  2020  ...  120gm    44  2020-02-01\n",
              "\n",
              "[34950 rows x 18 columns]"
            ]
          },
          "metadata": {
            "tags": []
          },
          "execution_count": 302
        }
      ]
    },
    {
      "cell_type": "code",
      "metadata": {
        "id": "nDUMizTtiFDg",
        "colab_type": "code",
        "colab": {}
      },
      "source": [
        "TotalAmount = (df['Qty'] * df['MRP'])-df['Cash Discount']\n",
        "df.insert(loc=5,column='TotalAmount',value=TotalAmount)"
      ],
      "execution_count": 0,
      "outputs": []
    },
    {
      "cell_type": "code",
      "metadata": {
        "id": "g062sV8AiGsU",
        "colab_type": "code",
        "outputId": "246dd187-539b-404d-fe2f-57938ae86635",
        "colab": {
          "base_uri": "https://localhost:8080/",
          "height": 343
        }
      },
      "source": [
        "df.head()"
      ],
      "execution_count": 0,
      "outputs": [
        {
          "output_type": "execute_result",
          "data": {
            "text/html": [
              "<div>\n",
              "<style scoped>\n",
              "    .dataframe tbody tr th:only-of-type {\n",
              "        vertical-align: middle;\n",
              "    }\n",
              "\n",
              "    .dataframe tbody tr th {\n",
              "        vertical-align: top;\n",
              "    }\n",
              "\n",
              "    .dataframe thead th {\n",
              "        text-align: right;\n",
              "    }\n",
              "</style>\n",
              "<table border=\"1\" class=\"dataframe\">\n",
              "  <thead>\n",
              "    <tr style=\"text-align: right;\">\n",
              "      <th></th>\n",
              "      <th>ParentSKU</th>\n",
              "      <th>Site Id</th>\n",
              "      <th>Year</th>\n",
              "      <th>Month</th>\n",
              "      <th>Category Name ID</th>\n",
              "      <th>TotalAmount</th>\n",
              "      <th>Unit</th>\n",
              "      <th>Qty</th>\n",
              "      <th>Price</th>\n",
              "      <th>Net Sales calculated</th>\n",
              "      <th>Cash Discount</th>\n",
              "      <th>Amount to Customer</th>\n",
              "      <th>MRP</th>\n",
              "      <th>Pack Size</th>\n",
              "      <th>Pack Unit Id</th>\n",
              "      <th>State</th>\n",
              "      <th>Zone</th>\n",
              "      <th>Master Category</th>\n",
              "      <th>Size</th>\n",
              "      <th>Rank</th>\n",
              "      <th>Date</th>\n",
              "    </tr>\n",
              "  </thead>\n",
              "  <tbody>\n",
              "    <tr>\n",
              "      <th>0</th>\n",
              "      <td>F0033</td>\n",
              "      <td>AHMEDABAD</td>\n",
              "      <td>2017</td>\n",
              "      <td>4</td>\n",
              "      <td>0</td>\n",
              "      <td>129660.0</td>\n",
              "      <td>NO</td>\n",
              "      <td>1621.0</td>\n",
              "      <td>54</td>\n",
              "      <td>82557</td>\n",
              "      <td>20</td>\n",
              "      <td>93640</td>\n",
              "      <td>80.0</td>\n",
              "      <td>30.0</td>\n",
              "      <td>GM</td>\n",
              "      <td>DL</td>\n",
              "      <td>WEST</td>\n",
              "      <td>3</td>\n",
              "      <td>30gm</td>\n",
              "      <td>4</td>\n",
              "      <td>2017-04-01</td>\n",
              "    </tr>\n",
              "    <tr>\n",
              "      <th>1</th>\n",
              "      <td>F0033</td>\n",
              "      <td>AHMEDABAD</td>\n",
              "      <td>2017</td>\n",
              "      <td>5</td>\n",
              "      <td>0</td>\n",
              "      <td>52059.0</td>\n",
              "      <td>NO</td>\n",
              "      <td>651.0</td>\n",
              "      <td>51</td>\n",
              "      <td>31473</td>\n",
              "      <td>21</td>\n",
              "      <td>35760</td>\n",
              "      <td>80.0</td>\n",
              "      <td>30.0</td>\n",
              "      <td>GM</td>\n",
              "      <td>DL</td>\n",
              "      <td>WEST</td>\n",
              "      <td>3</td>\n",
              "      <td>30gm</td>\n",
              "      <td>4</td>\n",
              "      <td>2017-05-01</td>\n",
              "    </tr>\n",
              "    <tr>\n",
              "      <th>2</th>\n",
              "      <td>F0033</td>\n",
              "      <td>AHMEDABAD</td>\n",
              "      <td>2017</td>\n",
              "      <td>6</td>\n",
              "      <td>0</td>\n",
              "      <td>31978.0</td>\n",
              "      <td>NO</td>\n",
              "      <td>457.0</td>\n",
              "      <td>46</td>\n",
              "      <td>19580</td>\n",
              "      <td>12</td>\n",
              "      <td>22293</td>\n",
              "      <td>70.0</td>\n",
              "      <td>30.0</td>\n",
              "      <td>GM</td>\n",
              "      <td>DL</td>\n",
              "      <td>WEST</td>\n",
              "      <td>3</td>\n",
              "      <td>30gm</td>\n",
              "      <td>4</td>\n",
              "      <td>2017-06-01</td>\n",
              "    </tr>\n",
              "    <tr>\n",
              "      <th>3</th>\n",
              "      <td>F0033</td>\n",
              "      <td>AHMEDABAD</td>\n",
              "      <td>2017</td>\n",
              "      <td>7</td>\n",
              "      <td>0</td>\n",
              "      <td>138950.0</td>\n",
              "      <td>NO</td>\n",
              "      <td>1985.0</td>\n",
              "      <td>41</td>\n",
              "      <td>78144</td>\n",
              "      <td>0</td>\n",
              "      <td>78144</td>\n",
              "      <td>70.0</td>\n",
              "      <td>30.0</td>\n",
              "      <td>GM</td>\n",
              "      <td>DL</td>\n",
              "      <td>WEST</td>\n",
              "      <td>3</td>\n",
              "      <td>30gm</td>\n",
              "      <td>4</td>\n",
              "      <td>2017-07-01</td>\n",
              "    </tr>\n",
              "    <tr>\n",
              "      <th>4</th>\n",
              "      <td>F0033</td>\n",
              "      <td>AHMEDABAD</td>\n",
              "      <td>2017</td>\n",
              "      <td>8</td>\n",
              "      <td>0</td>\n",
              "      <td>420.0</td>\n",
              "      <td>NO</td>\n",
              "      <td>6.0</td>\n",
              "      <td>38</td>\n",
              "      <td>228</td>\n",
              "      <td>0</td>\n",
              "      <td>228</td>\n",
              "      <td>70.0</td>\n",
              "      <td>30.0</td>\n",
              "      <td>GM</td>\n",
              "      <td>DL</td>\n",
              "      <td>WEST</td>\n",
              "      <td>3</td>\n",
              "      <td>30gm</td>\n",
              "      <td>4</td>\n",
              "      <td>2017-08-01</td>\n",
              "    </tr>\n",
              "  </tbody>\n",
              "</table>\n",
              "</div>"
            ],
            "text/plain": [
              "  ParentSKU    Site Id  Year  Month  ...  Master Category  Size Rank        Date\n",
              "0     F0033  AHMEDABAD  2017      4  ...                3  30gm    4  2017-04-01\n",
              "1     F0033  AHMEDABAD  2017      5  ...                3  30gm    4  2017-05-01\n",
              "2     F0033  AHMEDABAD  2017      6  ...                3  30gm    4  2017-06-01\n",
              "3     F0033  AHMEDABAD  2017      7  ...                3  30gm    4  2017-07-01\n",
              "4     F0033  AHMEDABAD  2017      8  ...                3  30gm    4  2017-08-01\n",
              "\n",
              "[5 rows x 21 columns]"
            ]
          },
          "metadata": {
            "tags": []
          },
          "execution_count": 304
        }
      ]
    },
    {
      "cell_type": "markdown",
      "metadata": {
        "id": "YTf6jqh_jh7_",
        "colab_type": "text"
      },
      "source": [
        "#EDA (Exploratory Data Analysis)"
      ]
    },
    {
      "cell_type": "markdown",
      "metadata": {
        "id": "zdmvSU3gl1Lp",
        "colab_type": "text"
      },
      "source": [
        "1. TotalAmount of sales at each site, how many quantites sold at each site."
      ]
    },
    {
      "cell_type": "code",
      "metadata": {
        "id": "xXfgPszvl0Y1",
        "colab_type": "code",
        "outputId": "9dd8eca0-27d0-438c-df50-7a87d84a7ee9",
        "colab": {
          "base_uri": "https://localhost:8080/",
          "height": 855
        }
      },
      "source": [
        "site_df = df.groupby(['Site Id']).sum()\n",
        "site_df.sort_values('TotalAmount',ascending=False,inplace=True)\n",
        "site_df[['Qty','TotalAmount']]"
      ],
      "execution_count": 0,
      "outputs": [
        {
          "output_type": "execute_result",
          "data": {
            "text/html": [
              "<div>\n",
              "<style scoped>\n",
              "    .dataframe tbody tr th:only-of-type {\n",
              "        vertical-align: middle;\n",
              "    }\n",
              "\n",
              "    .dataframe tbody tr th {\n",
              "        vertical-align: top;\n",
              "    }\n",
              "\n",
              "    .dataframe thead th {\n",
              "        text-align: right;\n",
              "    }\n",
              "</style>\n",
              "<table border=\"1\" class=\"dataframe\">\n",
              "  <thead>\n",
              "    <tr style=\"text-align: right;\">\n",
              "      <th></th>\n",
              "      <th>Qty</th>\n",
              "      <th>TotalAmount</th>\n",
              "    </tr>\n",
              "    <tr>\n",
              "      <th>Site Id</th>\n",
              "      <th></th>\n",
              "      <th></th>\n",
              "    </tr>\n",
              "  </thead>\n",
              "  <tbody>\n",
              "    <tr>\n",
              "      <th>DELMDK</th>\n",
              "      <td>3467907.00</td>\n",
              "      <td>5.958647e+08</td>\n",
              "    </tr>\n",
              "    <tr>\n",
              "      <th>MOHALI</th>\n",
              "      <td>2708360.00</td>\n",
              "      <td>4.503081e+08</td>\n",
              "    </tr>\n",
              "    <tr>\n",
              "      <th>MUMBAI</th>\n",
              "      <td>2128550.00</td>\n",
              "      <td>4.164727e+08</td>\n",
              "    </tr>\n",
              "    <tr>\n",
              "      <th>KOLKATA2</th>\n",
              "      <td>1728288.00</td>\n",
              "      <td>3.266175e+08</td>\n",
              "    </tr>\n",
              "    <tr>\n",
              "      <th>PUNE</th>\n",
              "      <td>1555476.00</td>\n",
              "      <td>2.618336e+08</td>\n",
              "    </tr>\n",
              "    <tr>\n",
              "      <th>LUCKNOW</th>\n",
              "      <td>1436727.00</td>\n",
              "      <td>2.346728e+08</td>\n",
              "    </tr>\n",
              "    <tr>\n",
              "      <th>BANGALORE</th>\n",
              "      <td>980430.00</td>\n",
              "      <td>2.066048e+08</td>\n",
              "    </tr>\n",
              "    <tr>\n",
              "      <th>AHMEDABAD</th>\n",
              "      <td>786735.00</td>\n",
              "      <td>1.563694e+08</td>\n",
              "    </tr>\n",
              "    <tr>\n",
              "      <th>GHAZIABAD</th>\n",
              "      <td>990572.00</td>\n",
              "      <td>1.537714e+08</td>\n",
              "    </tr>\n",
              "    <tr>\n",
              "      <th>JAIPUR</th>\n",
              "      <td>648244.00</td>\n",
              "      <td>1.201037e+08</td>\n",
              "    </tr>\n",
              "    <tr>\n",
              "      <th>INDORE</th>\n",
              "      <td>679460.00</td>\n",
              "      <td>1.137143e+08</td>\n",
              "    </tr>\n",
              "    <tr>\n",
              "      <th>SECUNDRBAD</th>\n",
              "      <td>500370.60</td>\n",
              "      <td>1.126927e+08</td>\n",
              "    </tr>\n",
              "    <tr>\n",
              "      <th>GUWAHATI</th>\n",
              "      <td>691985.00</td>\n",
              "      <td>1.074598e+08</td>\n",
              "    </tr>\n",
              "    <tr>\n",
              "      <th>HRDFACTORY</th>\n",
              "      <td>441106.00</td>\n",
              "      <td>1.064980e+08</td>\n",
              "    </tr>\n",
              "    <tr>\n",
              "      <th>CHENNAI</th>\n",
              "      <td>502366.48</td>\n",
              "      <td>9.813704e+07</td>\n",
              "    </tr>\n",
              "    <tr>\n",
              "      <th>PATNA</th>\n",
              "      <td>575909.00</td>\n",
              "      <td>8.831746e+07</td>\n",
              "    </tr>\n",
              "    <tr>\n",
              "      <th>JAMMU</th>\n",
              "      <td>672847.00</td>\n",
              "      <td>7.886860e+07</td>\n",
              "    </tr>\n",
              "    <tr>\n",
              "      <th>RANCHI</th>\n",
              "      <td>421122.00</td>\n",
              "      <td>6.867677e+07</td>\n",
              "    </tr>\n",
              "    <tr>\n",
              "      <th>KOCHI</th>\n",
              "      <td>337896.00</td>\n",
              "      <td>5.996167e+07</td>\n",
              "    </tr>\n",
              "    <tr>\n",
              "      <th>RAIPUR</th>\n",
              "      <td>319809.00</td>\n",
              "      <td>5.764020e+07</td>\n",
              "    </tr>\n",
              "    <tr>\n",
              "      <th>VIJAYAWADA</th>\n",
              "      <td>277467.00</td>\n",
              "      <td>5.499483e+07</td>\n",
              "    </tr>\n",
              "    <tr>\n",
              "      <th>GURGAON</th>\n",
              "      <td>237201.00</td>\n",
              "      <td>5.079582e+07</td>\n",
              "    </tr>\n",
              "    <tr>\n",
              "      <th>BHUBANESWR</th>\n",
              "      <td>296196.00</td>\n",
              "      <td>4.881354e+07</td>\n",
              "    </tr>\n",
              "    <tr>\n",
              "      <th>DEHRADUN</th>\n",
              "      <td>232680.00</td>\n",
              "      <td>3.667564e+07</td>\n",
              "    </tr>\n",
              "    <tr>\n",
              "      <th>KOLKATA</th>\n",
              "      <td>34224.00</td>\n",
              "      <td>7.205282e+06</td>\n",
              "    </tr>\n",
              "  </tbody>\n",
              "</table>\n",
              "</div>"
            ],
            "text/plain": [
              "                   Qty   TotalAmount\n",
              "Site Id                             \n",
              "DELMDK      3467907.00  5.958647e+08\n",
              "MOHALI      2708360.00  4.503081e+08\n",
              "MUMBAI      2128550.00  4.164727e+08\n",
              "KOLKATA2    1728288.00  3.266175e+08\n",
              "PUNE        1555476.00  2.618336e+08\n",
              "LUCKNOW     1436727.00  2.346728e+08\n",
              "BANGALORE    980430.00  2.066048e+08\n",
              "AHMEDABAD    786735.00  1.563694e+08\n",
              "GHAZIABAD    990572.00  1.537714e+08\n",
              "JAIPUR       648244.00  1.201037e+08\n",
              "INDORE       679460.00  1.137143e+08\n",
              "SECUNDRBAD   500370.60  1.126927e+08\n",
              "GUWAHATI     691985.00  1.074598e+08\n",
              "HRDFACTORY   441106.00  1.064980e+08\n",
              "CHENNAI      502366.48  9.813704e+07\n",
              "PATNA        575909.00  8.831746e+07\n",
              "JAMMU        672847.00  7.886860e+07\n",
              "RANCHI       421122.00  6.867677e+07\n",
              "KOCHI        337896.00  5.996167e+07\n",
              "RAIPUR       319809.00  5.764020e+07\n",
              "VIJAYAWADA   277467.00  5.499483e+07\n",
              "GURGAON      237201.00  5.079582e+07\n",
              "BHUBANESWR   296196.00  4.881354e+07\n",
              "DEHRADUN     232680.00  3.667564e+07\n",
              "KOLKATA       34224.00  7.205282e+06"
            ]
          },
          "metadata": {
            "tags": []
          },
          "execution_count": 305
        }
      ]
    },
    {
      "cell_type": "code",
      "metadata": {
        "id": "JNGtCJ3sLO8N",
        "colab_type": "code",
        "outputId": "7715249a-8f8d-47eb-9326-8aba37e71232",
        "colab": {
          "base_uri": "https://localhost:8080/",
          "height": 296
        }
      },
      "source": [
        "df.groupby('Site Id')['TotalAmount'].count().plot.line(color = 'r')"
      ],
      "execution_count": 0,
      "outputs": [
        {
          "output_type": "execute_result",
          "data": {
            "text/plain": [
              "<matplotlib.axes._subplots.AxesSubplot at 0x7f2140da1908>"
            ]
          },
          "metadata": {
            "tags": []
          },
          "execution_count": 306
        },
        {
          "output_type": "display_data",
          "data": {
            "image/png": "[encoded data removed]",
            "text/plain": [
              "<Figure size 432x288 with 1 Axes>"
            ]
          },
          "metadata": {
            "tags": [],
            "needs_background": "light"
          }
        }
      ]
    },
    {
      "cell_type": "markdown",
      "metadata": {
        "id": "cbvuVnXmxfnS",
        "colab_type": "text"
      },
      "source": [
        "2. Total Amount of revenue generated in each year, how many quantities sold yearly."
      ]
    },
    {
      "cell_type": "code",
      "metadata": {
        "id": "Ubo7lvAXy6Ww",
        "colab_type": "code",
        "outputId": "858278c7-1043-403f-eb81-de0851489a0e",
        "colab": {
          "base_uri": "https://localhost:8080/",
          "height": 204
        }
      },
      "source": [
        "year_df = df.groupby(['Year']).sum()\n",
        "year_df.sort_values('TotalAmount',ascending=False,inplace=True)\n",
        "year_df[['Qty','TotalAmount']]"
      ],
      "execution_count": 0,
      "outputs": [
        {
          "output_type": "execute_result",
          "data": {
            "text/html": [
              "<div>\n",
              "<style scoped>\n",
              "    .dataframe tbody tr th:only-of-type {\n",
              "        vertical-align: middle;\n",
              "    }\n",
              "\n",
              "    .dataframe tbody tr th {\n",
              "        vertical-align: top;\n",
              "    }\n",
              "\n",
              "    .dataframe thead th {\n",
              "        text-align: right;\n",
              "    }\n",
              "</style>\n",
              "<table border=\"1\" class=\"dataframe\">\n",
              "  <thead>\n",
              "    <tr style=\"text-align: right;\">\n",
              "      <th></th>\n",
              "      <th>Qty</th>\n",
              "      <th>TotalAmount</th>\n",
              "    </tr>\n",
              "    <tr>\n",
              "      <th>Year</th>\n",
              "      <th></th>\n",
              "      <th></th>\n",
              "    </tr>\n",
              "  </thead>\n",
              "  <tbody>\n",
              "    <tr>\n",
              "      <th>2018</th>\n",
              "      <td>8318639.48</td>\n",
              "      <td>1.385371e+09</td>\n",
              "    </tr>\n",
              "    <tr>\n",
              "      <th>2019</th>\n",
              "      <td>7479698.00</td>\n",
              "      <td>1.324243e+09</td>\n",
              "    </tr>\n",
              "    <tr>\n",
              "      <th>2017</th>\n",
              "      <td>5280299.60</td>\n",
              "      <td>9.935667e+08</td>\n",
              "    </tr>\n",
              "    <tr>\n",
              "      <th>2020</th>\n",
              "      <td>1573291.00</td>\n",
              "      <td>3.098898e+08</td>\n",
              "    </tr>\n",
              "  </tbody>\n",
              "</table>\n",
              "</div>"
            ],
            "text/plain": [
              "             Qty   TotalAmount\n",
              "Year                          \n",
              "2018  8318639.48  1.385371e+09\n",
              "2019  7479698.00  1.324243e+09\n",
              "2017  5280299.60  9.935667e+08\n",
              "2020  1573291.00  3.098898e+08"
            ]
          },
          "metadata": {
            "tags": []
          },
          "execution_count": 307
        }
      ]
    },
    {
      "cell_type": "code",
      "metadata": {
        "id": "zl3RB51YHHpn",
        "colab_type": "code",
        "outputId": "0a9cd0f4-a0e2-4ebd-c86c-f92afbee2b25",
        "colab": {
          "base_uri": "https://localhost:8080/",
          "height": 312
        }
      },
      "source": [
        "df.groupby('Year')['Qty'].count().plot.bar(color = 'g')"
      ],
      "execution_count": 0,
      "outputs": [
        {
          "output_type": "execute_result",
          "data": {
            "text/plain": [
              "<matplotlib.axes._subplots.AxesSubplot at 0x7f2140d868d0>"
            ]
          },
          "metadata": {
            "tags": []
          },
          "execution_count": 308
        },
        {
          "output_type": "display_data",
          "data": {
            "image/png": "[encoded data removed]",
            "text/plain": [
              "<Figure size 432x288 with 1 Axes>"
            ]
          },
          "metadata": {
            "tags": [],
            "needs_background": "light"
          }
        }
      ]
    },
    {
      "cell_type": "markdown",
      "metadata": {
        "id": "wsZzZgtABDX3",
        "colab_type": "text"
      },
      "source": [
        "3. Total Amount of revenue generated in each Zone, how many quantites sold in a particular Zone."
      ]
    },
    {
      "cell_type": "code",
      "metadata": {
        "id": "fD51VLokBB5R",
        "colab_type": "code",
        "outputId": "4493c52a-b85c-4ed1-cf18-21b8c1e64c8b",
        "colab": {
          "base_uri": "https://localhost:8080/",
          "height": 204
        }
      },
      "source": [
        "zonal_df = df.groupby(['Zone']).sum()\n",
        "zonal_df.sort_values('TotalAmount',ascending=False,inplace=True)\n",
        "zonal_df[['Qty','TotalAmount']]"
      ],
      "execution_count": 0,
      "outputs": [
        {
          "output_type": "execute_result",
          "data": {
            "text/html": [
              "<div>\n",
              "<style scoped>\n",
              "    .dataframe tbody tr th:only-of-type {\n",
              "        vertical-align: middle;\n",
              "    }\n",
              "\n",
              "    .dataframe tbody tr th {\n",
              "        vertical-align: top;\n",
              "    }\n",
              "\n",
              "    .dataframe thead th {\n",
              "        text-align: right;\n",
              "    }\n",
              "</style>\n",
              "<table border=\"1\" class=\"dataframe\">\n",
              "  <thead>\n",
              "    <tr style=\"text-align: right;\">\n",
              "      <th></th>\n",
              "      <th>Qty</th>\n",
              "      <th>TotalAmount</th>\n",
              "    </tr>\n",
              "    <tr>\n",
              "      <th>Zone</th>\n",
              "      <th></th>\n",
              "      <th></th>\n",
              "    </tr>\n",
              "  </thead>\n",
              "  <tbody>\n",
              "    <tr>\n",
              "      <th>NORTH</th>\n",
              "      <td>10641730.00</td>\n",
              "      <td>1.764618e+09</td>\n",
              "    </tr>\n",
              "    <tr>\n",
              "      <th>WEST</th>\n",
              "      <td>5350009.00</td>\n",
              "      <td>9.923688e+08</td>\n",
              "    </tr>\n",
              "    <tr>\n",
              "      <th>EAST</th>\n",
              "      <td>3990094.00</td>\n",
              "      <td>6.923784e+08</td>\n",
              "    </tr>\n",
              "    <tr>\n",
              "      <th>SOUTH</th>\n",
              "      <td>2670095.08</td>\n",
              "      <td>5.637051e+08</td>\n",
              "    </tr>\n",
              "  </tbody>\n",
              "</table>\n",
              "</div>"
            ],
            "text/plain": [
              "               Qty   TotalAmount\n",
              "Zone                            \n",
              "NORTH  10641730.00  1.764618e+09\n",
              "WEST    5350009.00  9.923688e+08\n",
              "EAST    3990094.00  6.923784e+08\n",
              "SOUTH   2670095.08  5.637051e+08"
            ]
          },
          "metadata": {
            "tags": []
          },
          "execution_count": 309
        }
      ]
    },
    {
      "cell_type": "code",
      "metadata": {
        "id": "hmPE4OQOJERI",
        "colab_type": "code",
        "outputId": "acb91979-7780-4a64-8da6-67bed4f97426",
        "colab": {
          "base_uri": "https://localhost:8080/",
          "height": 322
        }
      },
      "source": [
        "df.groupby('Zone')['Qty'].count().plot.bar(color = 'b')"
      ],
      "execution_count": 0,
      "outputs": [
        {
          "output_type": "execute_result",
          "data": {
            "text/plain": [
              "<matplotlib.axes._subplots.AxesSubplot at 0x7f2140c6f160>"
            ]
          },
          "metadata": {
            "tags": []
          },
          "execution_count": 310
        },
        {
          "output_type": "display_data",
          "data": {
            "image/png": "[encoded data removed]",
            "text/plain": [
              "<Figure size 432x288 with 1 Axes>"
            ]
          },
          "metadata": {
            "tags": [],
            "needs_background": "light"
          }
        }
      ]
    },
    {
      "cell_type": "markdown",
      "metadata": {
        "id": "UkDbGLwQ2ljk",
        "colab_type": "text"
      },
      "source": [
        "4. Top revenue contributing products."
      ]
    },
    {
      "cell_type": "code",
      "metadata": {
        "id": "IHmQ0Zju2zlv",
        "colab_type": "code",
        "outputId": "05f0052b-494d-48e0-f5e8-82f7b1d69301",
        "colab": {
          "base_uri": "https://localhost:8080/",
          "height": 359
        }
      },
      "source": [
        "cat_df = df.groupby(['Category Name ID']).sum()\n",
        "cat_df.sort_values('TotalAmount',ascending=False,inplace=True)\n",
        "cat_df[['Qty','TotalAmount']]"
      ],
      "execution_count": 0,
      "outputs": [
        {
          "output_type": "execute_result",
          "data": {
            "text/html": [
              "<div>\n",
              "<style scoped>\n",
              "    .dataframe tbody tr th:only-of-type {\n",
              "        vertical-align: middle;\n",
              "    }\n",
              "\n",
              "    .dataframe tbody tr th {\n",
              "        vertical-align: top;\n",
              "    }\n",
              "\n",
              "    .dataframe thead th {\n",
              "        text-align: right;\n",
              "    }\n",
              "</style>\n",
              "<table border=\"1\" class=\"dataframe\">\n",
              "  <thead>\n",
              "    <tr style=\"text-align: right;\">\n",
              "      <th></th>\n",
              "      <th>Qty</th>\n",
              "      <th>TotalAmount</th>\n",
              "    </tr>\n",
              "    <tr>\n",
              "      <th>Category Name ID</th>\n",
              "      <th></th>\n",
              "      <th></th>\n",
              "    </tr>\n",
              "  </thead>\n",
              "  <tbody>\n",
              "    <tr>\n",
              "      <th>7</th>\n",
              "      <td>10141789.00</td>\n",
              "      <td>1.798281e+09</td>\n",
              "    </tr>\n",
              "    <tr>\n",
              "      <th>6</th>\n",
              "      <td>2119728.48</td>\n",
              "      <td>6.986864e+08</td>\n",
              "    </tr>\n",
              "    <tr>\n",
              "      <th>4</th>\n",
              "      <td>1212414.00</td>\n",
              "      <td>5.216511e+08</td>\n",
              "    </tr>\n",
              "    <tr>\n",
              "      <th>0</th>\n",
              "      <td>6560574.60</td>\n",
              "      <td>4.296633e+08</td>\n",
              "    </tr>\n",
              "    <tr>\n",
              "      <th>1</th>\n",
              "      <td>1426155.00</td>\n",
              "      <td>2.368727e+08</td>\n",
              "    </tr>\n",
              "    <tr>\n",
              "      <th>3</th>\n",
              "      <td>132927.00</td>\n",
              "      <td>1.760934e+08</td>\n",
              "    </tr>\n",
              "    <tr>\n",
              "      <th>8</th>\n",
              "      <td>131646.00</td>\n",
              "      <td>7.068371e+07</td>\n",
              "    </tr>\n",
              "    <tr>\n",
              "      <th>2</th>\n",
              "      <td>894184.00</td>\n",
              "      <td>6.396834e+07</td>\n",
              "    </tr>\n",
              "    <tr>\n",
              "      <th>5</th>\n",
              "      <td>32510.00</td>\n",
              "      <td>1.717064e+07</td>\n",
              "    </tr>\n",
              "  </tbody>\n",
              "</table>\n",
              "</div>"
            ],
            "text/plain": [
              "                          Qty   TotalAmount\n",
              "Category Name ID                           \n",
              "7                 10141789.00  1.798281e+09\n",
              "6                  2119728.48  6.986864e+08\n",
              "4                  1212414.00  5.216511e+08\n",
              "0                  6560574.60  4.296633e+08\n",
              "1                  1426155.00  2.368727e+08\n",
              "3                   132927.00  1.760934e+08\n",
              "8                   131646.00  7.068371e+07\n",
              "2                   894184.00  6.396834e+07\n",
              "5                    32510.00  1.717064e+07"
            ]
          },
          "metadata": {
            "tags": []
          },
          "execution_count": 311
        }
      ]
    },
    {
      "cell_type": "code",
      "metadata": {
        "id": "OSw5AohP4Uj8",
        "colab_type": "code",
        "outputId": "869a7aa9-78b2-4dcd-fcaa-210c818bb8b3",
        "colab": {
          "base_uri": "https://localhost:8080/",
          "height": 265
        }
      },
      "source": [
        "df.groupby('Category Name ID')['Qty'].count().plot.pie()"
      ],
      "execution_count": 0,
      "outputs": [
        {
          "output_type": "execute_result",
          "data": {
            "text/plain": [
              "<matplotlib.axes._subplots.AxesSubplot at 0x7f2140f43080>"
            ]
          },
          "metadata": {
            "tags": []
          },
          "execution_count": 312
        },
        {
          "output_type": "display_data",
          "data": {
            "image/png": "[encoded data removed]",
            "text/plain": [
              "<Figure size 432x288 with 1 Axes>"
            ]
          },
          "metadata": {
            "tags": []
          }
        }
      ]
    },
    {
      "cell_type": "code",
      "metadata": {
        "id": "JDum1kg45M5l",
        "colab_type": "code",
        "outputId": "43868dc3-81c3-416a-c708-2b81b370a5e9",
        "colab": {
          "base_uri": "https://localhost:8080/",
          "height": 483
        }
      },
      "source": [
        "mst_df = df.groupby(['Master Category']).sum()\n",
        "mst_df.sort_values('TotalAmount',ascending=False,inplace=True)\n",
        "mst_df[['Qty','TotalAmount']]"
      ],
      "execution_count": 0,
      "outputs": [
        {
          "output_type": "execute_result",
          "data": {
            "text/html": [
              "<div>\n",
              "<style scoped>\n",
              "    .dataframe tbody tr th:only-of-type {\n",
              "        vertical-align: middle;\n",
              "    }\n",
              "\n",
              "    .dataframe tbody tr th {\n",
              "        vertical-align: top;\n",
              "    }\n",
              "\n",
              "    .dataframe thead th {\n",
              "        text-align: right;\n",
              "    }\n",
              "</style>\n",
              "<table border=\"1\" class=\"dataframe\">\n",
              "  <thead>\n",
              "    <tr style=\"text-align: right;\">\n",
              "      <th></th>\n",
              "      <th>Qty</th>\n",
              "      <th>TotalAmount</th>\n",
              "    </tr>\n",
              "    <tr>\n",
              "      <th>Master Category</th>\n",
              "      <th></th>\n",
              "      <th></th>\n",
              "    </tr>\n",
              "  </thead>\n",
              "  <tbody>\n",
              "    <tr>\n",
              "      <th>11</th>\n",
              "      <td>6095066.00</td>\n",
              "      <td>1.119761e+09</td>\n",
              "    </tr>\n",
              "    <tr>\n",
              "      <th>10</th>\n",
              "      <td>2138170.48</td>\n",
              "      <td>7.064090e+08</td>\n",
              "    </tr>\n",
              "    <tr>\n",
              "      <th>8</th>\n",
              "      <td>1193972.00</td>\n",
              "      <td>5.139285e+08</td>\n",
              "    </tr>\n",
              "    <tr>\n",
              "      <th>3</th>\n",
              "      <td>6560574.60</td>\n",
              "      <td>4.296633e+08</td>\n",
              "    </tr>\n",
              "    <tr>\n",
              "      <th>1</th>\n",
              "      <td>2257171.00</td>\n",
              "      <td>2.242665e+08</td>\n",
              "    </tr>\n",
              "    <tr>\n",
              "      <th>12</th>\n",
              "      <td>884839.00</td>\n",
              "      <td>2.089402e+08</td>\n",
              "    </tr>\n",
              "    <tr>\n",
              "      <th>4</th>\n",
              "      <td>675764.00</td>\n",
              "      <td>1.976621e+08</td>\n",
              "    </tr>\n",
              "    <tr>\n",
              "      <th>7</th>\n",
              "      <td>132927.00</td>\n",
              "      <td>1.760934e+08</td>\n",
              "    </tr>\n",
              "    <tr>\n",
              "      <th>0</th>\n",
              "      <td>456962.00</td>\n",
              "      <td>1.677575e+08</td>\n",
              "    </tr>\n",
              "    <tr>\n",
              "      <th>6</th>\n",
              "      <td>1220550.00</td>\n",
              "      <td>1.313117e+08</td>\n",
              "    </tr>\n",
              "    <tr>\n",
              "      <th>9</th>\n",
              "      <td>164156.00</td>\n",
              "      <td>8.785435e+07</td>\n",
              "    </tr>\n",
              "    <tr>\n",
              "      <th>5</th>\n",
              "      <td>750391.00</td>\n",
              "      <td>3.921060e+07</td>\n",
              "    </tr>\n",
              "    <tr>\n",
              "      <th>2</th>\n",
              "      <td>121385.00</td>\n",
              "      <td>1.021240e+07</td>\n",
              "    </tr>\n",
              "  </tbody>\n",
              "</table>\n",
              "</div>"
            ],
            "text/plain": [
              "                        Qty   TotalAmount\n",
              "Master Category                          \n",
              "11               6095066.00  1.119761e+09\n",
              "10               2138170.48  7.064090e+08\n",
              "8                1193972.00  5.139285e+08\n",
              "3                6560574.60  4.296633e+08\n",
              "1                2257171.00  2.242665e+08\n",
              "12                884839.00  2.089402e+08\n",
              "4                 675764.00  1.976621e+08\n",
              "7                 132927.00  1.760934e+08\n",
              "0                 456962.00  1.677575e+08\n",
              "6                1220550.00  1.313117e+08\n",
              "9                 164156.00  8.785435e+07\n",
              "5                 750391.00  3.921060e+07\n",
              "2                 121385.00  1.021240e+07"
            ]
          },
          "metadata": {
            "tags": []
          },
          "execution_count": 313
        }
      ]
    },
    {
      "cell_type": "code",
      "metadata": {
        "id": "2YMi-I2q5bVI",
        "colab_type": "code",
        "outputId": "cb99c148-b680-4584-8066-6b9b1c2291d2",
        "colab": {
          "base_uri": "https://localhost:8080/",
          "height": 265
        }
      },
      "source": [
        "df.groupby('Master Category')['Qty'].count().plot.pie()"
      ],
      "execution_count": 0,
      "outputs": [
        {
          "output_type": "execute_result",
          "data": {
            "text/plain": [
              "<matplotlib.axes._subplots.AxesSubplot at 0x7f2140b4f5f8>"
            ]
          },
          "metadata": {
            "tags": []
          },
          "execution_count": 314
        },
        {
          "output_type": "display_data",
          "data": {
            "image/png": "[encoded data removed]",
            "text/plain": [
              "<Figure size 432x288 with 1 Axes>"
            ]
          },
          "metadata": {
            "tags": []
          }
        }
      ]
    },
    {
      "cell_type": "markdown",
      "metadata": {
        "id": "MhWcIEkD47rK",
        "colab_type": "text"
      },
      "source": [
        "5. Trend of Discounts on products on Parent Stock Keeping Unit."
      ]
    },
    {
      "cell_type": "code",
      "metadata": {
        "id": "41FgSfs48rQK",
        "colab_type": "code",
        "outputId": "abc86cd1-b831-4c50-b2b8-f39d2699744d",
        "colab": {
          "base_uri": "https://localhost:8080/",
          "height": 1000
        }
      },
      "source": [
        "cat_df = df.groupby(['ParentSKU']).sum()\n",
        "cat_df.sort_values('Cash Discount',ascending=False,inplace=True)\n",
        "cat_df[['Cash Discount']]"
      ],
      "execution_count": 0,
      "outputs": [
        {
          "output_type": "execute_result",
          "data": {
            "text/html": [
              "<div>\n",
              "<style scoped>\n",
              "    .dataframe tbody tr th:only-of-type {\n",
              "        vertical-align: middle;\n",
              "    }\n",
              "\n",
              "    .dataframe tbody tr th {\n",
              "        vertical-align: top;\n",
              "    }\n",
              "\n",
              "    .dataframe thead th {\n",
              "        text-align: right;\n",
              "    }\n",
              "</style>\n",
              "<table border=\"1\" class=\"dataframe\">\n",
              "  <thead>\n",
              "    <tr style=\"text-align: right;\">\n",
              "      <th></th>\n",
              "      <th>Cash Discount</th>\n",
              "    </tr>\n",
              "    <tr>\n",
              "      <th>ParentSKU</th>\n",
              "      <th></th>\n",
              "    </tr>\n",
              "  </thead>\n",
              "  <tbody>\n",
              "    <tr>\n",
              "      <th>F0307</th>\n",
              "      <td>1517</td>\n",
              "    </tr>\n",
              "    <tr>\n",
              "      <th>F0033</th>\n",
              "      <td>1293</td>\n",
              "    </tr>\n",
              "    <tr>\n",
              "      <th>F0215</th>\n",
              "      <td>1240</td>\n",
              "    </tr>\n",
              "    <tr>\n",
              "      <th>F0328</th>\n",
              "      <td>1209</td>\n",
              "    </tr>\n",
              "    <tr>\n",
              "      <th>F0034</th>\n",
              "      <td>1156</td>\n",
              "    </tr>\n",
              "    <tr>\n",
              "      <th>F0216</th>\n",
              "      <td>1133</td>\n",
              "    </tr>\n",
              "    <tr>\n",
              "      <th>F0311</th>\n",
              "      <td>1095</td>\n",
              "    </tr>\n",
              "    <tr>\n",
              "      <th>F0306</th>\n",
              "      <td>1080</td>\n",
              "    </tr>\n",
              "    <tr>\n",
              "      <th>F0217</th>\n",
              "      <td>1020</td>\n",
              "    </tr>\n",
              "    <tr>\n",
              "      <th>F0218</th>\n",
              "      <td>965</td>\n",
              "    </tr>\n",
              "    <tr>\n",
              "      <th>F0099</th>\n",
              "      <td>909</td>\n",
              "    </tr>\n",
              "    <tr>\n",
              "      <th>F0098</th>\n",
              "      <td>886</td>\n",
              "    </tr>\n",
              "    <tr>\n",
              "      <th>F0319</th>\n",
              "      <td>847</td>\n",
              "    </tr>\n",
              "    <tr>\n",
              "      <th>F0193</th>\n",
              "      <td>820</td>\n",
              "    </tr>\n",
              "    <tr>\n",
              "      <th>F0101</th>\n",
              "      <td>735</td>\n",
              "    </tr>\n",
              "    <tr>\n",
              "      <th>F0167</th>\n",
              "      <td>722</td>\n",
              "    </tr>\n",
              "    <tr>\n",
              "      <th>F0320</th>\n",
              "      <td>714</td>\n",
              "    </tr>\n",
              "    <tr>\n",
              "      <th>F0094</th>\n",
              "      <td>669</td>\n",
              "    </tr>\n",
              "    <tr>\n",
              "      <th>F0214</th>\n",
              "      <td>665</td>\n",
              "    </tr>\n",
              "    <tr>\n",
              "      <th>F0204</th>\n",
              "      <td>638</td>\n",
              "    </tr>\n",
              "    <tr>\n",
              "      <th>F0113</th>\n",
              "      <td>630</td>\n",
              "    </tr>\n",
              "    <tr>\n",
              "      <th>F0321</th>\n",
              "      <td>618</td>\n",
              "    </tr>\n",
              "    <tr>\n",
              "      <th>F0201</th>\n",
              "      <td>611</td>\n",
              "    </tr>\n",
              "    <tr>\n",
              "      <th>F0112</th>\n",
              "      <td>610</td>\n",
              "    </tr>\n",
              "    <tr>\n",
              "      <th>F0194</th>\n",
              "      <td>581</td>\n",
              "    </tr>\n",
              "    <tr>\n",
              "      <th>F0212</th>\n",
              "      <td>571</td>\n",
              "    </tr>\n",
              "    <tr>\n",
              "      <th>F0206</th>\n",
              "      <td>564</td>\n",
              "    </tr>\n",
              "    <tr>\n",
              "      <th>F0232</th>\n",
              "      <td>547</td>\n",
              "    </tr>\n",
              "    <tr>\n",
              "      <th>F0147</th>\n",
              "      <td>528</td>\n",
              "    </tr>\n",
              "    <tr>\n",
              "      <th>F0202</th>\n",
              "      <td>498</td>\n",
              "    </tr>\n",
              "    <tr>\n",
              "      <th>F0210</th>\n",
              "      <td>488</td>\n",
              "    </tr>\n",
              "    <tr>\n",
              "      <th>F0168</th>\n",
              "      <td>488</td>\n",
              "    </tr>\n",
              "    <tr>\n",
              "      <th>F0140</th>\n",
              "      <td>483</td>\n",
              "    </tr>\n",
              "    <tr>\n",
              "      <th>F0196</th>\n",
              "      <td>467</td>\n",
              "    </tr>\n",
              "    <tr>\n",
              "      <th>F0199</th>\n",
              "      <td>454</td>\n",
              "    </tr>\n",
              "    <tr>\n",
              "      <th>F0207</th>\n",
              "      <td>417</td>\n",
              "    </tr>\n",
              "    <tr>\n",
              "      <th>F0233</th>\n",
              "      <td>412</td>\n",
              "    </tr>\n",
              "    <tr>\n",
              "      <th>F0089</th>\n",
              "      <td>393</td>\n",
              "    </tr>\n",
              "    <tr>\n",
              "      <th>F0091</th>\n",
              "      <td>269</td>\n",
              "    </tr>\n",
              "    <tr>\n",
              "      <th>F0365</th>\n",
              "      <td>0</td>\n",
              "    </tr>\n",
              "    <tr>\n",
              "      <th>F0367</th>\n",
              "      <td>0</td>\n",
              "    </tr>\n",
              "    <tr>\n",
              "      <th>F0369</th>\n",
              "      <td>0</td>\n",
              "    </tr>\n",
              "    <tr>\n",
              "      <th>F0371</th>\n",
              "      <td>0</td>\n",
              "    </tr>\n",
              "    <tr>\n",
              "      <th>F0387</th>\n",
              "      <td>0</td>\n",
              "    </tr>\n",
              "    <tr>\n",
              "      <th>F0469</th>\n",
              "      <td>0</td>\n",
              "    </tr>\n",
              "    <tr>\n",
              "      <th>F0470</th>\n",
              "      <td>0</td>\n",
              "    </tr>\n",
              "    <tr>\n",
              "      <th>F0607</th>\n",
              "      <td>0</td>\n",
              "    </tr>\n",
              "    <tr>\n",
              "      <th>F0627</th>\n",
              "      <td>0</td>\n",
              "    </tr>\n",
              "    <tr>\n",
              "      <th>F0641</th>\n",
              "      <td>0</td>\n",
              "    </tr>\n",
              "    <tr>\n",
              "      <th>F0642</th>\n",
              "      <td>0</td>\n",
              "    </tr>\n",
              "    <tr>\n",
              "      <th>F0643</th>\n",
              "      <td>0</td>\n",
              "    </tr>\n",
              "    <tr>\n",
              "      <th>T0270</th>\n",
              "      <td>0</td>\n",
              "    </tr>\n",
              "  </tbody>\n",
              "</table>\n",
              "</div>"
            ],
            "text/plain": [
              "           Cash Discount\n",
              "ParentSKU               \n",
              "F0307               1517\n",
              "F0033               1293\n",
              "F0215               1240\n",
              "F0328               1209\n",
              "F0034               1156\n",
              "F0216               1133\n",
              "F0311               1095\n",
              "F0306               1080\n",
              "F0217               1020\n",
              "F0218                965\n",
              "F0099                909\n",
              "F0098                886\n",
              "F0319                847\n",
              "F0193                820\n",
              "F0101                735\n",
              "F0167                722\n",
              "F0320                714\n",
              "F0094                669\n",
              "F0214                665\n",
              "F0204                638\n",
              "F0113                630\n",
              "F0321                618\n",
              "F0201                611\n",
              "F0112                610\n",
              "F0194                581\n",
              "F0212                571\n",
              "F0206                564\n",
              "F0232                547\n",
              "F0147                528\n",
              "F0202                498\n",
              "F0210                488\n",
              "F0168                488\n",
              "F0140                483\n",
              "F0196                467\n",
              "F0199                454\n",
              "F0207                417\n",
              "F0233                412\n",
              "F0089                393\n",
              "F0091                269\n",
              "F0365                  0\n",
              "F0367                  0\n",
              "F0369                  0\n",
              "F0371                  0\n",
              "F0387                  0\n",
              "F0469                  0\n",
              "F0470                  0\n",
              "F0607                  0\n",
              "F0627                  0\n",
              "F0641                  0\n",
              "F0642                  0\n",
              "F0643                  0\n",
              "T0270                  0"
            ]
          },
          "metadata": {
            "tags": []
          },
          "execution_count": 315
        }
      ]
    },
    {
      "cell_type": "markdown",
      "metadata": {
        "id": "wxPAF1cS8eZD",
        "colab_type": "text"
      },
      "source": [
        "6. Discount applied categorically."
      ]
    },
    {
      "cell_type": "code",
      "metadata": {
        "id": "lGglDFUS6xKB",
        "colab_type": "code",
        "outputId": "3e78319e-df59-405e-f0bd-6902d5fc4f7e",
        "colab": {
          "base_uri": "https://localhost:8080/",
          "height": 483
        }
      },
      "source": [
        "cat_df = df.groupby(['Master Category']).sum()\n",
        "cat_df.sort_values('Cash Discount',ascending=False,inplace=True)\n",
        "cat_df[['Cash Discount','TotalAmount']]"
      ],
      "execution_count": 0,
      "outputs": [
        {
          "output_type": "execute_result",
          "data": {
            "text/html": [
              "<div>\n",
              "<style scoped>\n",
              "    .dataframe tbody tr th:only-of-type {\n",
              "        vertical-align: middle;\n",
              "    }\n",
              "\n",
              "    .dataframe tbody tr th {\n",
              "        vertical-align: top;\n",
              "    }\n",
              "\n",
              "    .dataframe thead th {\n",
              "        text-align: right;\n",
              "    }\n",
              "</style>\n",
              "<table border=\"1\" class=\"dataframe\">\n",
              "  <thead>\n",
              "    <tr style=\"text-align: right;\">\n",
              "      <th></th>\n",
              "      <th>Cash Discount</th>\n",
              "      <th>TotalAmount</th>\n",
              "    </tr>\n",
              "    <tr>\n",
              "      <th>Master Category</th>\n",
              "      <th></th>\n",
              "      <th></th>\n",
              "    </tr>\n",
              "  </thead>\n",
              "  <tbody>\n",
              "    <tr>\n",
              "      <th>11</th>\n",
              "      <td>10861</td>\n",
              "      <td>1.119761e+09</td>\n",
              "    </tr>\n",
              "    <tr>\n",
              "      <th>10</th>\n",
              "      <td>3199</td>\n",
              "      <td>7.064090e+08</td>\n",
              "    </tr>\n",
              "    <tr>\n",
              "      <th>12</th>\n",
              "      <td>3095</td>\n",
              "      <td>2.089402e+08</td>\n",
              "    </tr>\n",
              "    <tr>\n",
              "      <th>0</th>\n",
              "      <td>3037</td>\n",
              "      <td>1.677575e+08</td>\n",
              "    </tr>\n",
              "    <tr>\n",
              "      <th>3</th>\n",
              "      <td>2449</td>\n",
              "      <td>4.296633e+08</td>\n",
              "    </tr>\n",
              "    <tr>\n",
              "      <th>6</th>\n",
              "      <td>2449</td>\n",
              "      <td>1.313117e+08</td>\n",
              "    </tr>\n",
              "    <tr>\n",
              "      <th>4</th>\n",
              "      <td>2179</td>\n",
              "      <td>1.976621e+08</td>\n",
              "    </tr>\n",
              "    <tr>\n",
              "      <th>9</th>\n",
              "      <td>1011</td>\n",
              "      <td>8.785435e+07</td>\n",
              "    </tr>\n",
              "    <tr>\n",
              "      <th>8</th>\n",
              "      <td>662</td>\n",
              "      <td>5.139285e+08</td>\n",
              "    </tr>\n",
              "    <tr>\n",
              "      <th>1</th>\n",
              "      <td>0</td>\n",
              "      <td>2.242665e+08</td>\n",
              "    </tr>\n",
              "    <tr>\n",
              "      <th>2</th>\n",
              "      <td>0</td>\n",
              "      <td>1.021240e+07</td>\n",
              "    </tr>\n",
              "    <tr>\n",
              "      <th>5</th>\n",
              "      <td>0</td>\n",
              "      <td>3.921060e+07</td>\n",
              "    </tr>\n",
              "    <tr>\n",
              "      <th>7</th>\n",
              "      <td>0</td>\n",
              "      <td>1.760934e+08</td>\n",
              "    </tr>\n",
              "  </tbody>\n",
              "</table>\n",
              "</div>"
            ],
            "text/plain": [
              "                 Cash Discount   TotalAmount\n",
              "Master Category                             \n",
              "11                       10861  1.119761e+09\n",
              "10                        3199  7.064090e+08\n",
              "12                        3095  2.089402e+08\n",
              "0                         3037  1.677575e+08\n",
              "3                         2449  4.296633e+08\n",
              "6                         2449  1.313117e+08\n",
              "4                         2179  1.976621e+08\n",
              "9                         1011  8.785435e+07\n",
              "8                          662  5.139285e+08\n",
              "1                            0  2.242665e+08\n",
              "2                            0  1.021240e+07\n",
              "5                            0  3.921060e+07\n",
              "7                            0  1.760934e+08"
            ]
          },
          "metadata": {
            "tags": []
          },
          "execution_count": 316
        }
      ]
    },
    {
      "cell_type": "code",
      "metadata": {
        "id": "vZjgO8gG7VUh",
        "colab_type": "code",
        "outputId": "6f60667f-1f0c-4410-d548-897e8c503677",
        "colab": {
          "base_uri": "https://localhost:8080/",
          "height": 299
        }
      },
      "source": [
        "df.groupby('Master Category')['Cash Discount'].count().plot.bar(color='black')"
      ],
      "execution_count": 0,
      "outputs": [
        {
          "output_type": "execute_result",
          "data": {
            "text/plain": [
              "<matplotlib.axes._subplots.AxesSubplot at 0x7f2140b41c50>"
            ]
          },
          "metadata": {
            "tags": []
          },
          "execution_count": 317
        },
        {
          "output_type": "display_data",
          "data": {
            "image/png": "[encoded data removed]",
            "text/plain": [
              "<Figure size 432x288 with 1 Axes>"
            ]
          },
          "metadata": {
            "tags": [],
            "needs_background": "light"
          }
        }
      ]
    },
    {
      "cell_type": "markdown",
      "metadata": {
        "id": "CSIZp-pKHqGw",
        "colab_type": "text"
      },
      "source": [
        "7. Analysis of amounts to customer categorically."
      ]
    },
    {
      "cell_type": "code",
      "metadata": {
        "id": "k72E7ghgH29J",
        "colab_type": "code",
        "outputId": "c24ca663-dc47-41b8-9df1-2e1950a32271",
        "colab": {
          "base_uri": "https://localhost:8080/",
          "height": 483
        }
      },
      "source": [
        "cat_df = df.groupby(['Master Category']).sum()\n",
        "cat_df.sort_values('Net Sales calculated',ascending=False,inplace=True)\n",
        "cat_df[['Net Sales calculated']]"
      ],
      "execution_count": 0,
      "outputs": [
        {
          "output_type": "execute_result",
          "data": {
            "text/html": [
              "<div>\n",
              "<style scoped>\n",
              "    .dataframe tbody tr th:only-of-type {\n",
              "        vertical-align: middle;\n",
              "    }\n",
              "\n",
              "    .dataframe tbody tr th {\n",
              "        vertical-align: top;\n",
              "    }\n",
              "\n",
              "    .dataframe thead th {\n",
              "        text-align: right;\n",
              "    }\n",
              "</style>\n",
              "<table border=\"1\" class=\"dataframe\">\n",
              "  <thead>\n",
              "    <tr style=\"text-align: right;\">\n",
              "      <th></th>\n",
              "      <th>Net Sales calculated</th>\n",
              "    </tr>\n",
              "    <tr>\n",
              "      <th>Master Category</th>\n",
              "      <th></th>\n",
              "    </tr>\n",
              "  </thead>\n",
              "  <tbody>\n",
              "    <tr>\n",
              "      <th>11</th>\n",
              "      <td>678226315</td>\n",
              "    </tr>\n",
              "    <tr>\n",
              "      <th>10</th>\n",
              "      <td>397386913</td>\n",
              "    </tr>\n",
              "    <tr>\n",
              "      <th>8</th>\n",
              "      <td>308116312</td>\n",
              "    </tr>\n",
              "    <tr>\n",
              "      <th>3</th>\n",
              "      <td>256272941</td>\n",
              "    </tr>\n",
              "    <tr>\n",
              "      <th>1</th>\n",
              "      <td>131106560</td>\n",
              "    </tr>\n",
              "    <tr>\n",
              "      <th>12</th>\n",
              "      <td>126467838</td>\n",
              "    </tr>\n",
              "    <tr>\n",
              "      <th>4</th>\n",
              "      <td>116733127</td>\n",
              "    </tr>\n",
              "    <tr>\n",
              "      <th>7</th>\n",
              "      <td>105806825</td>\n",
              "    </tr>\n",
              "    <tr>\n",
              "      <th>0</th>\n",
              "      <td>102737973</td>\n",
              "    </tr>\n",
              "    <tr>\n",
              "      <th>6</th>\n",
              "      <td>79210064</td>\n",
              "    </tr>\n",
              "    <tr>\n",
              "      <th>9</th>\n",
              "      <td>52759263</td>\n",
              "    </tr>\n",
              "    <tr>\n",
              "      <th>5</th>\n",
              "      <td>22679693</td>\n",
              "    </tr>\n",
              "    <tr>\n",
              "      <th>2</th>\n",
              "      <td>6227962</td>\n",
              "    </tr>\n",
              "  </tbody>\n",
              "</table>\n",
              "</div>"
            ],
            "text/plain": [
              "                 Net Sales calculated\n",
              "Master Category                      \n",
              "11                          678226315\n",
              "10                          397386913\n",
              "8                           308116312\n",
              "3                           256272941\n",
              "1                           131106560\n",
              "12                          126467838\n",
              "4                           116733127\n",
              "7                           105806825\n",
              "0                           102737973\n",
              "6                            79210064\n",
              "9                            52759263\n",
              "5                            22679693\n",
              "2                             6227962"
            ]
          },
          "metadata": {
            "tags": []
          },
          "execution_count": 318
        }
      ]
    },
    {
      "cell_type": "code",
      "metadata": {
        "id": "1F3U6MhJMlOF",
        "colab_type": "code",
        "outputId": "fa944465-2cb9-4c2a-a2d8-ac73fbb856c6",
        "colab": {
          "base_uri": "https://localhost:8080/",
          "height": 296
        }
      },
      "source": [
        "df.groupby('Master Category')['Net Sales calculated'].count().plot.line(color='black')"
      ],
      "execution_count": 0,
      "outputs": [
        {
          "output_type": "execute_result",
          "data": {
            "text/plain": [
              "<matplotlib.axes._subplots.AxesSubplot at 0x7f2140b0a470>"
            ]
          },
          "metadata": {
            "tags": []
          },
          "execution_count": 319
        },
        {
          "output_type": "display_data",
          "data": {
            "image/png": "[encoded data removed]",
            "text/plain": [
              "<Figure size 432x288 with 1 Axes>"
            ]
          },
          "metadata": {
            "tags": [],
            "needs_background": "light"
          }
        }
      ]
    },
    {
      "cell_type": "markdown",
      "metadata": {
        "id": "qNoqHTh2M16c",
        "colab_type": "text"
      },
      "source": [
        "8. Total Amount billed by customer categorically."
      ]
    },
    {
      "cell_type": "code",
      "metadata": {
        "id": "ChWdGzE_M5S_",
        "colab_type": "code",
        "outputId": "c230485f-09bd-46f1-a8cb-28173bbcf7a5",
        "colab": {
          "base_uri": "https://localhost:8080/",
          "height": 483
        }
      },
      "source": [
        "cat_df = df.groupby(['Master Category']).sum()\n",
        "cat_df.sort_values('Amount to Customer',ascending=False,inplace=True)\n",
        "cat_df[['Amount to Customer']]"
      ],
      "execution_count": 0,
      "outputs": [
        {
          "output_type": "execute_result",
          "data": {
            "text/html": [
              "<div>\n",
              "<style scoped>\n",
              "    .dataframe tbody tr th:only-of-type {\n",
              "        vertical-align: middle;\n",
              "    }\n",
              "\n",
              "    .dataframe tbody tr th {\n",
              "        vertical-align: top;\n",
              "    }\n",
              "\n",
              "    .dataframe thead th {\n",
              "        text-align: right;\n",
              "    }\n",
              "</style>\n",
              "<table border=\"1\" class=\"dataframe\">\n",
              "  <thead>\n",
              "    <tr style=\"text-align: right;\">\n",
              "      <th></th>\n",
              "      <th>Amount to Customer</th>\n",
              "    </tr>\n",
              "    <tr>\n",
              "      <th>Master Category</th>\n",
              "      <th></th>\n",
              "    </tr>\n",
              "  </thead>\n",
              "  <tbody>\n",
              "    <tr>\n",
              "      <th>11</th>\n",
              "      <td>686598864</td>\n",
              "    </tr>\n",
              "    <tr>\n",
              "      <th>10</th>\n",
              "      <td>401208964</td>\n",
              "    </tr>\n",
              "    <tr>\n",
              "      <th>8</th>\n",
              "      <td>308395506</td>\n",
              "    </tr>\n",
              "    <tr>\n",
              "      <th>3</th>\n",
              "      <td>258770537</td>\n",
              "    </tr>\n",
              "    <tr>\n",
              "      <th>1</th>\n",
              "      <td>131106560</td>\n",
              "    </tr>\n",
              "    <tr>\n",
              "      <th>12</th>\n",
              "      <td>128578934</td>\n",
              "    </tr>\n",
              "    <tr>\n",
              "      <th>4</th>\n",
              "      <td>117738202</td>\n",
              "    </tr>\n",
              "    <tr>\n",
              "      <th>7</th>\n",
              "      <td>105806825</td>\n",
              "    </tr>\n",
              "    <tr>\n",
              "      <th>0</th>\n",
              "      <td>104282165</td>\n",
              "    </tr>\n",
              "    <tr>\n",
              "      <th>6</th>\n",
              "      <td>80244978</td>\n",
              "    </tr>\n",
              "    <tr>\n",
              "      <th>9</th>\n",
              "      <td>53630118</td>\n",
              "    </tr>\n",
              "    <tr>\n",
              "      <th>5</th>\n",
              "      <td>22679693</td>\n",
              "    </tr>\n",
              "    <tr>\n",
              "      <th>2</th>\n",
              "      <td>6227962</td>\n",
              "    </tr>\n",
              "  </tbody>\n",
              "</table>\n",
              "</div>"
            ],
            "text/plain": [
              "                 Amount to Customer\n",
              "Master Category                    \n",
              "11                        686598864\n",
              "10                        401208964\n",
              "8                         308395506\n",
              "3                         258770537\n",
              "1                         131106560\n",
              "12                        128578934\n",
              "4                         117738202\n",
              "7                         105806825\n",
              "0                         104282165\n",
              "6                          80244978\n",
              "9                          53630118\n",
              "5                          22679693\n",
              "2                           6227962"
            ]
          },
          "metadata": {
            "tags": []
          },
          "execution_count": 320
        }
      ]
    },
    {
      "cell_type": "code",
      "metadata": {
        "id": "Jtyi8G60M3Gw",
        "colab_type": "code",
        "outputId": "1149229c-5a65-4133-b54c-7b84a9738df1",
        "colab": {
          "base_uri": "https://localhost:8080/",
          "height": 299
        }
      },
      "source": [
        "df.groupby('Master Category')['Amount to Customer'].count().plot.bar(color='g')"
      ],
      "execution_count": 0,
      "outputs": [
        {
          "output_type": "execute_result",
          "data": {
            "text/plain": [
              "<matplotlib.axes._subplots.AxesSubplot at 0x7f214076ceb8>"
            ]
          },
          "metadata": {
            "tags": []
          },
          "execution_count": 321
        },
        {
          "output_type": "display_data",
          "data": {
            "image/png": "[encoded data removed]",
            "text/plain": [
              "<Figure size 432x288 with 1 Axes>"
            ]
          },
          "metadata": {
            "tags": [],
            "needs_background": "light"
          }
        }
      ]
    },
    {
      "cell_type": "markdown",
      "metadata": {
        "id": "aW23AvYgNmgl",
        "colab_type": "text"
      },
      "source": [
        "9. Sales analysis Zonal wise."
      ]
    },
    {
      "cell_type": "code",
      "metadata": {
        "id": "-aU_08I8OAAU",
        "colab_type": "code",
        "outputId": "10eeac58-139e-474f-9b25-ddb090737cb9",
        "colab": {
          "base_uri": "https://localhost:8080/",
          "height": 204
        }
      },
      "source": [
        "z_df = df.groupby(['Zone']).sum()\n",
        "z_df.sort_values('Net Sales calculated',ascending=False,inplace=True)\n",
        "z_df[['Net Sales calculated']]"
      ],
      "execution_count": 0,
      "outputs": [
        {
          "output_type": "execute_result",
          "data": {
            "text/html": [
              "<div>\n",
              "<style scoped>\n",
              "    .dataframe tbody tr th:only-of-type {\n",
              "        vertical-align: middle;\n",
              "    }\n",
              "\n",
              "    .dataframe tbody tr th {\n",
              "        vertical-align: top;\n",
              "    }\n",
              "\n",
              "    .dataframe thead th {\n",
              "        text-align: right;\n",
              "    }\n",
              "</style>\n",
              "<table border=\"1\" class=\"dataframe\">\n",
              "  <thead>\n",
              "    <tr style=\"text-align: right;\">\n",
              "      <th></th>\n",
              "      <th>Net Sales calculated</th>\n",
              "    </tr>\n",
              "    <tr>\n",
              "      <th>Zone</th>\n",
              "      <th></th>\n",
              "    </tr>\n",
              "  </thead>\n",
              "  <tbody>\n",
              "    <tr>\n",
              "      <th>NORTH</th>\n",
              "      <td>1048404045</td>\n",
              "    </tr>\n",
              "    <tr>\n",
              "      <th>WEST</th>\n",
              "      <td>586261794</td>\n",
              "    </tr>\n",
              "    <tr>\n",
              "      <th>EAST</th>\n",
              "      <td>414579530</td>\n",
              "    </tr>\n",
              "    <tr>\n",
              "      <th>SOUTH</th>\n",
              "      <td>334486417</td>\n",
              "    </tr>\n",
              "  </tbody>\n",
              "</table>\n",
              "</div>"
            ],
            "text/plain": [
              "       Net Sales calculated\n",
              "Zone                       \n",
              "NORTH            1048404045\n",
              "WEST              586261794\n",
              "EAST              414579530\n",
              "SOUTH             334486417"
            ]
          },
          "metadata": {
            "tags": []
          },
          "execution_count": 322
        }
      ]
    },
    {
      "cell_type": "code",
      "metadata": {
        "id": "rkhmo1LCOopA",
        "colab_type": "code",
        "outputId": "55b8b7ab-38f0-4342-e9e6-1fe21d9e8d22",
        "colab": {
          "base_uri": "https://localhost:8080/",
          "height": 322
        }
      },
      "source": [
        "df.groupby('Zone')['Net Sales calculated'].count().plot.bar(color='b')"
      ],
      "execution_count": 0,
      "outputs": [
        {
          "output_type": "execute_result",
          "data": {
            "text/plain": [
              "<matplotlib.axes._subplots.AxesSubplot at 0x7f214076cdd8>"
            ]
          },
          "metadata": {
            "tags": []
          },
          "execution_count": 323
        },
        {
          "output_type": "display_data",
          "data": {
            "image/png": "[encoded data removed]",
            "text/plain": [
              "<Figure size 432x288 with 1 Axes>"
            ]
          },
          "metadata": {
            "tags": [],
            "needs_background": "light"
          }
        }
      ]
    },
    {
      "cell_type": "markdown",
      "metadata": {
        "id": "51Tm1_G0RFuf",
        "colab_type": "text"
      },
      "source": [
        "10. Amount billed by customer's trend on different sites."
      ]
    },
    {
      "cell_type": "code",
      "metadata": {
        "id": "PmlpQQj0RnTd",
        "colab_type": "code",
        "outputId": "731f0737-af8b-4457-a812-39d309812d50",
        "colab": {
          "base_uri": "https://localhost:8080/",
          "height": 855
        }
      },
      "source": [
        "s_df = df.groupby(['Site Id']).sum()\n",
        "s_df.sort_values('Amount to Customer',ascending=False,inplace=True)\n",
        "s_df[['Amount to Customer']]"
      ],
      "execution_count": 0,
      "outputs": [
        {
          "output_type": "execute_result",
          "data": {
            "text/html": [
              "<div>\n",
              "<style scoped>\n",
              "    .dataframe tbody tr th:only-of-type {\n",
              "        vertical-align: middle;\n",
              "    }\n",
              "\n",
              "    .dataframe tbody tr th {\n",
              "        vertical-align: top;\n",
              "    }\n",
              "\n",
              "    .dataframe thead th {\n",
              "        text-align: right;\n",
              "    }\n",
              "</style>\n",
              "<table border=\"1\" class=\"dataframe\">\n",
              "  <thead>\n",
              "    <tr style=\"text-align: right;\">\n",
              "      <th></th>\n",
              "      <th>Amount to Customer</th>\n",
              "    </tr>\n",
              "    <tr>\n",
              "      <th>Site Id</th>\n",
              "      <th></th>\n",
              "    </tr>\n",
              "  </thead>\n",
              "  <tbody>\n",
              "    <tr>\n",
              "      <th>DELMDK</th>\n",
              "      <td>357937484</td>\n",
              "    </tr>\n",
              "    <tr>\n",
              "      <th>MOHALI</th>\n",
              "      <td>268500541</td>\n",
              "    </tr>\n",
              "    <tr>\n",
              "      <th>MUMBAI</th>\n",
              "      <td>245649856</td>\n",
              "    </tr>\n",
              "    <tr>\n",
              "      <th>KOLKATA2</th>\n",
              "      <td>198449700</td>\n",
              "    </tr>\n",
              "    <tr>\n",
              "      <th>PUNE</th>\n",
              "      <td>157949686</td>\n",
              "    </tr>\n",
              "    <tr>\n",
              "      <th>LUCKNOW</th>\n",
              "      <td>140550809</td>\n",
              "    </tr>\n",
              "    <tr>\n",
              "      <th>BANGALORE</th>\n",
              "      <td>122664543</td>\n",
              "    </tr>\n",
              "    <tr>\n",
              "      <th>GHAZIABAD</th>\n",
              "      <td>92705516</td>\n",
              "    </tr>\n",
              "    <tr>\n",
              "      <th>AHMEDABAD</th>\n",
              "      <td>92671879</td>\n",
              "    </tr>\n",
              "    <tr>\n",
              "      <th>JAIPUR</th>\n",
              "      <td>72226097</td>\n",
              "    </tr>\n",
              "    <tr>\n",
              "      <th>HRDFACTORY</th>\n",
              "      <td>67560581</td>\n",
              "    </tr>\n",
              "    <tr>\n",
              "      <th>INDORE</th>\n",
              "      <td>67412992</td>\n",
              "    </tr>\n",
              "    <tr>\n",
              "      <th>SECUNDRBAD</th>\n",
              "      <td>64478314</td>\n",
              "    </tr>\n",
              "    <tr>\n",
              "      <th>GUWAHATI</th>\n",
              "      <td>64450928</td>\n",
              "    </tr>\n",
              "    <tr>\n",
              "      <th>CHENNAI</th>\n",
              "      <td>59403399</td>\n",
              "    </tr>\n",
              "    <tr>\n",
              "      <th>PATNA</th>\n",
              "      <td>52612018</td>\n",
              "    </tr>\n",
              "    <tr>\n",
              "      <th>JAMMU</th>\n",
              "      <td>47141611</td>\n",
              "    </tr>\n",
              "    <tr>\n",
              "      <th>RANCHI</th>\n",
              "      <td>40838397</td>\n",
              "    </tr>\n",
              "    <tr>\n",
              "      <th>KOCHI</th>\n",
              "      <td>36611496</td>\n",
              "    </tr>\n",
              "    <tr>\n",
              "      <th>RAIPUR</th>\n",
              "      <td>34541864</td>\n",
              "    </tr>\n",
              "    <tr>\n",
              "      <th>VIJAYAWADA</th>\n",
              "      <td>33159469</td>\n",
              "    </tr>\n",
              "    <tr>\n",
              "      <th>BHUBANESWR</th>\n",
              "      <td>30332320</td>\n",
              "    </tr>\n",
              "    <tr>\n",
              "      <th>GURGAON</th>\n",
              "      <td>29984144</td>\n",
              "    </tr>\n",
              "    <tr>\n",
              "      <th>DEHRADUN</th>\n",
              "      <td>22019833</td>\n",
              "    </tr>\n",
              "    <tr>\n",
              "      <th>KOLKATA</th>\n",
              "      <td>5415831</td>\n",
              "    </tr>\n",
              "  </tbody>\n",
              "</table>\n",
              "</div>"
            ],
            "text/plain": [
              "            Amount to Customer\n",
              "Site Id                       \n",
              "DELMDK               357937484\n",
              "MOHALI               268500541\n",
              "MUMBAI               245649856\n",
              "KOLKATA2             198449700\n",
              "PUNE                 157949686\n",
              "LUCKNOW              140550809\n",
              "BANGALORE            122664543\n",
              "GHAZIABAD             92705516\n",
              "AHMEDABAD             92671879\n",
              "JAIPUR                72226097\n",
              "HRDFACTORY            67560581\n",
              "INDORE                67412992\n",
              "SECUNDRBAD            64478314\n",
              "GUWAHATI              64450928\n",
              "CHENNAI               59403399\n",
              "PATNA                 52612018\n",
              "JAMMU                 47141611\n",
              "RANCHI                40838397\n",
              "KOCHI                 36611496\n",
              "RAIPUR                34541864\n",
              "VIJAYAWADA            33159469\n",
              "BHUBANESWR            30332320\n",
              "GURGAON               29984144\n",
              "DEHRADUN              22019833\n",
              "KOLKATA                5415831"
            ]
          },
          "metadata": {
            "tags": []
          },
          "execution_count": 324
        }
      ]
    },
    {
      "cell_type": "code",
      "metadata": {
        "id": "kUI0ZYbvR8l4",
        "colab_type": "code",
        "outputId": "ce0e5624-57be-435e-f374-3d624249e15e",
        "colab": {
          "base_uri": "https://localhost:8080/",
          "height": 296
        }
      },
      "source": [
        "df.groupby('Site Id')['Amount to Customer'].count().plot.line(color='b')"
      ],
      "execution_count": 0,
      "outputs": [
        {
          "output_type": "execute_result",
          "data": {
            "text/plain": [
              "<matplotlib.axes._subplots.AxesSubplot at 0x7f21402cc9e8>"
            ]
          },
          "metadata": {
            "tags": []
          },
          "execution_count": 326
        },
        {
          "output_type": "display_data",
          "data": {
            "image/png": "[encoded data removed]",
            "text/plain": [
              "<Figure size 432x288 with 1 Axes>"
            ]
          },
          "metadata": {
            "tags": [],
            "needs_background": "light"
          }
        }
      ]
    },
    {
      "cell_type": "markdown",
      "metadata": {
        "id": "o8MpUbO4oH0X",
        "colab_type": "text"
      },
      "source": [
        "#Conclusion\n",
        "\n",
        "In this whole dataset I had initialy observed the data thoroughly then did data wrangling. Then I did exploratory data analysis (EDA) through which I had drawn some insights through it like trends of sales categorically and over particular site. Which zone having maximum and minimum sales. what are amounts to be billed by customers in different zones and sites. What are the net sales, what are the total amount and many more things. The main objective was \"To turn data into information, and information into insight\" which I had successfully achieved."
      ]
    }
  ]
}